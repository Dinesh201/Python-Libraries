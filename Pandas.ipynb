{
 "cells": [
  {
   "cell_type": "code",
   "execution_count": 1,
   "metadata": {},
   "outputs": [],
   "source": [
    "import pandas as pd\n",
    "import matplotlib.pyplot as plt\n",
    "import numpy as np"
   ]
  },
  {
   "cell_type": "code",
   "execution_count": 2,
   "metadata": {},
   "outputs": [],
   "source": [
    "dic = {\"name\":[\"Dinesh\",\"Ravina\",\"Raghav\",\"Sanjay\"],\n",
    "       \"Marks\":[86,58,67,45],\n",
    "       \"City\":[\"indore\",\"banglour\",\"mumbai\",\"delhi\"],\n",
    "       \"subject\":[\"B.com\",\"MSC\",\"Engineering\",\"MBA\"]\n",
    "      }\n"
   ]
  },
  {
   "cell_type": "code",
   "execution_count": 3,
   "metadata": {},
   "outputs": [],
   "source": [
    "df = pd.DataFrame(dic)"
   ]
  },
  {
   "cell_type": "code",
   "execution_count": 4,
   "metadata": {},
   "outputs": [
    {
     "data": {
      "text/html": [
       "<div>\n",
       "<style scoped>\n",
       "    .dataframe tbody tr th:only-of-type {\n",
       "        vertical-align: middle;\n",
       "    }\n",
       "\n",
       "    .dataframe tbody tr th {\n",
       "        vertical-align: top;\n",
       "    }\n",
       "\n",
       "    .dataframe thead th {\n",
       "        text-align: right;\n",
       "    }\n",
       "</style>\n",
       "<table border=\"1\" class=\"dataframe\">\n",
       "  <thead>\n",
       "    <tr style=\"text-align: right;\">\n",
       "      <th></th>\n",
       "      <th>name</th>\n",
       "      <th>Marks</th>\n",
       "      <th>City</th>\n",
       "      <th>subject</th>\n",
       "    </tr>\n",
       "  </thead>\n",
       "  <tbody>\n",
       "    <tr>\n",
       "      <th>0</th>\n",
       "      <td>Dinesh</td>\n",
       "      <td>86</td>\n",
       "      <td>indore</td>\n",
       "      <td>B.com</td>\n",
       "    </tr>\n",
       "    <tr>\n",
       "      <th>1</th>\n",
       "      <td>Ravina</td>\n",
       "      <td>58</td>\n",
       "      <td>banglour</td>\n",
       "      <td>MSC</td>\n",
       "    </tr>\n",
       "    <tr>\n",
       "      <th>2</th>\n",
       "      <td>Raghav</td>\n",
       "      <td>67</td>\n",
       "      <td>mumbai</td>\n",
       "      <td>Engineering</td>\n",
       "    </tr>\n",
       "    <tr>\n",
       "      <th>3</th>\n",
       "      <td>Sanjay</td>\n",
       "      <td>45</td>\n",
       "      <td>delhi</td>\n",
       "      <td>MBA</td>\n",
       "    </tr>\n",
       "  </tbody>\n",
       "</table>\n",
       "</div>"
      ],
      "text/plain": [
       "     name  Marks      City      subject\n",
       "0  Dinesh     86    indore        B.com\n",
       "1  Ravina     58  banglour          MSC\n",
       "2  Raghav     67    mumbai  Engineering\n",
       "3  Sanjay     45     delhi          MBA"
      ]
     },
     "execution_count": 4,
     "metadata": {},
     "output_type": "execute_result"
    }
   ],
   "source": [
    "df"
   ]
  },
  {
   "cell_type": "code",
   "execution_count": 5,
   "metadata": {},
   "outputs": [
    {
     "data": {
      "text/html": [
       "<div>\n",
       "<style scoped>\n",
       "    .dataframe tbody tr th:only-of-type {\n",
       "        vertical-align: middle;\n",
       "    }\n",
       "\n",
       "    .dataframe tbody tr th {\n",
       "        vertical-align: top;\n",
       "    }\n",
       "\n",
       "    .dataframe thead th {\n",
       "        text-align: right;\n",
       "    }\n",
       "</style>\n",
       "<table border=\"1\" class=\"dataframe\">\n",
       "  <thead>\n",
       "    <tr style=\"text-align: right;\">\n",
       "      <th></th>\n",
       "      <th>name</th>\n",
       "      <th>Marks</th>\n",
       "      <th>City</th>\n",
       "      <th>subject</th>\n",
       "    </tr>\n",
       "  </thead>\n",
       "  <tbody>\n",
       "    <tr>\n",
       "      <th>0</th>\n",
       "      <td>Dinesh</td>\n",
       "      <td>86</td>\n",
       "      <td>indore</td>\n",
       "      <td>B.com</td>\n",
       "    </tr>\n",
       "    <tr>\n",
       "      <th>1</th>\n",
       "      <td>Ravina</td>\n",
       "      <td>58</td>\n",
       "      <td>banglour</td>\n",
       "      <td>MSC</td>\n",
       "    </tr>\n",
       "  </tbody>\n",
       "</table>\n",
       "</div>"
      ],
      "text/plain": [
       "     name  Marks      City subject\n",
       "0  Dinesh     86    indore   B.com\n",
       "1  Ravina     58  banglour     MSC"
      ]
     },
     "execution_count": 5,
     "metadata": {},
     "output_type": "execute_result"
    }
   ],
   "source": [
    "df.head(2)"
   ]
  },
  {
   "cell_type": "code",
   "execution_count": 6,
   "metadata": {},
   "outputs": [],
   "source": [
    "df.to_csv('Friends_csv', index=False)"
   ]
  },
  {
   "cell_type": "code",
   "execution_count": 7,
   "metadata": {},
   "outputs": [
    {
     "data": {
      "text/html": [
       "<div>\n",
       "<style scoped>\n",
       "    .dataframe tbody tr th:only-of-type {\n",
       "        vertical-align: middle;\n",
       "    }\n",
       "\n",
       "    .dataframe tbody tr th {\n",
       "        vertical-align: top;\n",
       "    }\n",
       "\n",
       "    .dataframe thead th {\n",
       "        text-align: right;\n",
       "    }\n",
       "</style>\n",
       "<table border=\"1\" class=\"dataframe\">\n",
       "  <thead>\n",
       "    <tr style=\"text-align: right;\">\n",
       "      <th></th>\n",
       "      <th>Marks</th>\n",
       "    </tr>\n",
       "  </thead>\n",
       "  <tbody>\n",
       "    <tr>\n",
       "      <th>count</th>\n",
       "      <td>4.000000</td>\n",
       "    </tr>\n",
       "    <tr>\n",
       "      <th>mean</th>\n",
       "      <td>64.000000</td>\n",
       "    </tr>\n",
       "    <tr>\n",
       "      <th>std</th>\n",
       "      <td>17.224014</td>\n",
       "    </tr>\n",
       "    <tr>\n",
       "      <th>min</th>\n",
       "      <td>45.000000</td>\n",
       "    </tr>\n",
       "    <tr>\n",
       "      <th>25%</th>\n",
       "      <td>54.750000</td>\n",
       "    </tr>\n",
       "    <tr>\n",
       "      <th>50%</th>\n",
       "      <td>62.500000</td>\n",
       "    </tr>\n",
       "    <tr>\n",
       "      <th>75%</th>\n",
       "      <td>71.750000</td>\n",
       "    </tr>\n",
       "    <tr>\n",
       "      <th>max</th>\n",
       "      <td>86.000000</td>\n",
       "    </tr>\n",
       "  </tbody>\n",
       "</table>\n",
       "</div>"
      ],
      "text/plain": [
       "           Marks\n",
       "count   4.000000\n",
       "mean   64.000000\n",
       "std    17.224014\n",
       "min    45.000000\n",
       "25%    54.750000\n",
       "50%    62.500000\n",
       "75%    71.750000\n",
       "max    86.000000"
      ]
     },
     "execution_count": 7,
     "metadata": {},
     "output_type": "execute_result"
    }
   ],
   "source": [
    "df.describe()"
   ]
  },
  {
   "cell_type": "code",
   "execution_count": 8,
   "metadata": {},
   "outputs": [],
   "source": [
    "poll = pd.read_csv(\"Friends_Trian.csv\")"
   ]
  },
  {
   "cell_type": "code",
   "execution_count": 9,
   "metadata": {},
   "outputs": [
    {
     "data": {
      "text/html": [
       "<div>\n",
       "<style scoped>\n",
       "    .dataframe tbody tr th:only-of-type {\n",
       "        vertical-align: middle;\n",
       "    }\n",
       "\n",
       "    .dataframe tbody tr th {\n",
       "        vertical-align: top;\n",
       "    }\n",
       "\n",
       "    .dataframe thead th {\n",
       "        text-align: right;\n",
       "    }\n",
       "</style>\n",
       "<table border=\"1\" class=\"dataframe\">\n",
       "  <thead>\n",
       "    <tr style=\"text-align: right;\">\n",
       "      <th></th>\n",
       "      <th>Train no.</th>\n",
       "      <th>Speed</th>\n",
       "      <th>City</th>\n",
       "    </tr>\n",
       "  </thead>\n",
       "  <tbody>\n",
       "    <tr>\n",
       "      <th>0</th>\n",
       "      <td>156456</td>\n",
       "      <td>152</td>\n",
       "      <td>indore</td>\n",
       "    </tr>\n",
       "    <tr>\n",
       "      <th>1</th>\n",
       "      <td>789654</td>\n",
       "      <td>125</td>\n",
       "      <td>banglour</td>\n",
       "    </tr>\n",
       "    <tr>\n",
       "      <th>2</th>\n",
       "      <td>852741</td>\n",
       "      <td>90</td>\n",
       "      <td>mumbai</td>\n",
       "    </tr>\n",
       "    <tr>\n",
       "      <th>3</th>\n",
       "      <td>202654</td>\n",
       "      <td>170</td>\n",
       "      <td>delhi</td>\n",
       "    </tr>\n",
       "  </tbody>\n",
       "</table>\n",
       "</div>"
      ],
      "text/plain": [
       "   Train no.  Speed      City\n",
       "0     156456    152    indore\n",
       "1     789654    125  banglour\n",
       "2     852741     90    mumbai\n",
       "3     202654    170     delhi"
      ]
     },
     "execution_count": 9,
     "metadata": {},
     "output_type": "execute_result"
    }
   ],
   "source": [
    "poll"
   ]
  },
  {
   "cell_type": "code",
   "execution_count": 10,
   "metadata": {},
   "outputs": [],
   "source": [
    "poll.index = [\"first\",\"second\",\"Third\",\"Fourth\"]"
   ]
  },
  {
   "cell_type": "code",
   "execution_count": 11,
   "metadata": {},
   "outputs": [
    {
     "data": {
      "text/html": [
       "<div>\n",
       "<style scoped>\n",
       "    .dataframe tbody tr th:only-of-type {\n",
       "        vertical-align: middle;\n",
       "    }\n",
       "\n",
       "    .dataframe tbody tr th {\n",
       "        vertical-align: top;\n",
       "    }\n",
       "\n",
       "    .dataframe thead th {\n",
       "        text-align: right;\n",
       "    }\n",
       "</style>\n",
       "<table border=\"1\" class=\"dataframe\">\n",
       "  <thead>\n",
       "    <tr style=\"text-align: right;\">\n",
       "      <th></th>\n",
       "      <th>Train no.</th>\n",
       "      <th>Speed</th>\n",
       "      <th>City</th>\n",
       "    </tr>\n",
       "  </thead>\n",
       "  <tbody>\n",
       "    <tr>\n",
       "      <th>first</th>\n",
       "      <td>156456</td>\n",
       "      <td>152</td>\n",
       "      <td>indore</td>\n",
       "    </tr>\n",
       "    <tr>\n",
       "      <th>second</th>\n",
       "      <td>789654</td>\n",
       "      <td>125</td>\n",
       "      <td>banglour</td>\n",
       "    </tr>\n",
       "    <tr>\n",
       "      <th>Third</th>\n",
       "      <td>852741</td>\n",
       "      <td>90</td>\n",
       "      <td>mumbai</td>\n",
       "    </tr>\n",
       "    <tr>\n",
       "      <th>Fourth</th>\n",
       "      <td>202654</td>\n",
       "      <td>170</td>\n",
       "      <td>delhi</td>\n",
       "    </tr>\n",
       "  </tbody>\n",
       "</table>\n",
       "</div>"
      ],
      "text/plain": [
       "        Train no.  Speed      City\n",
       "first      156456    152    indore\n",
       "second     789654    125  banglour\n",
       "Third      852741     90    mumbai\n",
       "Fourth     202654    170     delhi"
      ]
     },
     "execution_count": 11,
     "metadata": {},
     "output_type": "execute_result"
    }
   ],
   "source": [
    "poll"
   ]
  },
  {
   "cell_type": "code",
   "execution_count": 12,
   "metadata": {},
   "outputs": [
    {
     "name": "stderr",
     "output_type": "stream",
     "text": [
      "<ipython-input-12-36876aae870b>:1: SettingWithCopyWarning: \n",
      "A value is trying to be set on a copy of a slice from a DataFrame\n",
      "\n",
      "See the caveats in the documentation: https://pandas.pydata.org/pandas-docs/stable/user_guide/indexing.html#returning-a-view-versus-a-copy\n",
      "  poll['Speed'][0] = 160\n"
     ]
    }
   ],
   "source": [
    "poll['Speed'][0] = 160"
   ]
  },
  {
   "cell_type": "code",
   "execution_count": 13,
   "metadata": {},
   "outputs": [
    {
     "data": {
      "text/html": [
       "<div>\n",
       "<style scoped>\n",
       "    .dataframe tbody tr th:only-of-type {\n",
       "        vertical-align: middle;\n",
       "    }\n",
       "\n",
       "    .dataframe tbody tr th {\n",
       "        vertical-align: top;\n",
       "    }\n",
       "\n",
       "    .dataframe thead th {\n",
       "        text-align: right;\n",
       "    }\n",
       "</style>\n",
       "<table border=\"1\" class=\"dataframe\">\n",
       "  <thead>\n",
       "    <tr style=\"text-align: right;\">\n",
       "      <th></th>\n",
       "      <th>Train no.</th>\n",
       "      <th>Speed</th>\n",
       "      <th>City</th>\n",
       "    </tr>\n",
       "  </thead>\n",
       "  <tbody>\n",
       "    <tr>\n",
       "      <th>first</th>\n",
       "      <td>156456</td>\n",
       "      <td>160</td>\n",
       "      <td>indore</td>\n",
       "    </tr>\n",
       "    <tr>\n",
       "      <th>second</th>\n",
       "      <td>789654</td>\n",
       "      <td>125</td>\n",
       "      <td>banglour</td>\n",
       "    </tr>\n",
       "    <tr>\n",
       "      <th>Third</th>\n",
       "      <td>852741</td>\n",
       "      <td>90</td>\n",
       "      <td>mumbai</td>\n",
       "    </tr>\n",
       "    <tr>\n",
       "      <th>Fourth</th>\n",
       "      <td>202654</td>\n",
       "      <td>170</td>\n",
       "      <td>delhi</td>\n",
       "    </tr>\n",
       "  </tbody>\n",
       "</table>\n",
       "</div>"
      ],
      "text/plain": [
       "        Train no.  Speed      City\n",
       "first      156456    160    indore\n",
       "second     789654    125  banglour\n",
       "Third      852741     90    mumbai\n",
       "Fourth     202654    170     delhi"
      ]
     },
     "execution_count": 13,
     "metadata": {},
     "output_type": "execute_result"
    }
   ],
   "source": [
    "poll"
   ]
  },
  {
   "cell_type": "code",
   "execution_count": 14,
   "metadata": {},
   "outputs": [],
   "source": [
    "ser = pd.Series(np.random.randn(12))"
   ]
  },
  {
   "cell_type": "code",
   "execution_count": 15,
   "metadata": {},
   "outputs": [
    {
     "data": {
      "text/plain": [
       "0    -0.930861\n",
       "1    -1.853345\n",
       "2     1.366818\n",
       "3     1.465770\n",
       "4    -0.261696\n",
       "5    -0.417662\n",
       "6     1.307751\n",
       "7    -1.228296\n",
       "8     0.673791\n",
       "9    -0.083004\n",
       "10    0.451154\n",
       "11    0.365667\n",
       "dtype: float64"
      ]
     },
     "execution_count": 15,
     "metadata": {},
     "output_type": "execute_result"
    }
   ],
   "source": [
    "ser"
   ]
  },
  {
   "cell_type": "code",
   "execution_count": 16,
   "metadata": {},
   "outputs": [
    {
     "data": {
      "text/plain": [
       "pandas.core.series.Series"
      ]
     },
     "execution_count": 16,
     "metadata": {},
     "output_type": "execute_result"
    }
   ],
   "source": [
    "type(ser)"
   ]
  },
  {
   "cell_type": "code",
   "execution_count": 17,
   "metadata": {},
   "outputs": [],
   "source": [
    "Newfrm = pd.DataFrame(np.random.rand(20,5), index=[np.arange(20)])"
   ]
  },
  {
   "cell_type": "code",
   "execution_count": 18,
   "metadata": {},
   "outputs": [
    {
     "data": {
      "text/html": [
       "<div>\n",
       "<style scoped>\n",
       "    .dataframe tbody tr th:only-of-type {\n",
       "        vertical-align: middle;\n",
       "    }\n",
       "\n",
       "    .dataframe tbody tr th {\n",
       "        vertical-align: top;\n",
       "    }\n",
       "\n",
       "    .dataframe thead th {\n",
       "        text-align: right;\n",
       "    }\n",
       "</style>\n",
       "<table border=\"1\" class=\"dataframe\">\n",
       "  <thead>\n",
       "    <tr style=\"text-align: right;\">\n",
       "      <th></th>\n",
       "      <th>0</th>\n",
       "      <th>1</th>\n",
       "      <th>2</th>\n",
       "      <th>3</th>\n",
       "      <th>4</th>\n",
       "    </tr>\n",
       "  </thead>\n",
       "  <tbody>\n",
       "    <tr>\n",
       "      <th>0</th>\n",
       "      <td>0.639616</td>\n",
       "      <td>0.197345</td>\n",
       "      <td>0.235238</td>\n",
       "      <td>0.254297</td>\n",
       "      <td>0.928096</td>\n",
       "    </tr>\n",
       "    <tr>\n",
       "      <th>1</th>\n",
       "      <td>0.334833</td>\n",
       "      <td>0.085284</td>\n",
       "      <td>0.923694</td>\n",
       "      <td>0.975214</td>\n",
       "      <td>0.267598</td>\n",
       "    </tr>\n",
       "    <tr>\n",
       "      <th>2</th>\n",
       "      <td>0.788227</td>\n",
       "      <td>0.452967</td>\n",
       "      <td>0.288050</td>\n",
       "      <td>0.260938</td>\n",
       "      <td>0.096581</td>\n",
       "    </tr>\n",
       "    <tr>\n",
       "      <th>3</th>\n",
       "      <td>0.579657</td>\n",
       "      <td>0.537426</td>\n",
       "      <td>0.647384</td>\n",
       "      <td>0.421176</td>\n",
       "      <td>0.875440</td>\n",
       "    </tr>\n",
       "    <tr>\n",
       "      <th>4</th>\n",
       "      <td>0.936031</td>\n",
       "      <td>0.803866</td>\n",
       "      <td>0.179141</td>\n",
       "      <td>0.641701</td>\n",
       "      <td>0.717267</td>\n",
       "    </tr>\n",
       "  </tbody>\n",
       "</table>\n",
       "</div>"
      ],
      "text/plain": [
       "          0         1         2         3         4\n",
       "0  0.639616  0.197345  0.235238  0.254297  0.928096\n",
       "1  0.334833  0.085284  0.923694  0.975214  0.267598\n",
       "2  0.788227  0.452967  0.288050  0.260938  0.096581\n",
       "3  0.579657  0.537426  0.647384  0.421176  0.875440\n",
       "4  0.936031  0.803866  0.179141  0.641701  0.717267"
      ]
     },
     "execution_count": 18,
     "metadata": {},
     "output_type": "execute_result"
    }
   ],
   "source": [
    "Newfrm.head()"
   ]
  },
  {
   "cell_type": "code",
   "execution_count": 19,
   "metadata": {},
   "outputs": [
    {
     "data": {
      "text/plain": [
       "pandas.core.frame.DataFrame"
      ]
     },
     "execution_count": 19,
     "metadata": {},
     "output_type": "execute_result"
    }
   ],
   "source": [
    "type(Newfrm)"
   ]
  },
  {
   "cell_type": "code",
   "execution_count": 20,
   "metadata": {},
   "outputs": [
    {
     "data": {
      "text/plain": [
       "0    float64\n",
       "1    float64\n",
       "2    float64\n",
       "3    float64\n",
       "4    float64\n",
       "dtype: object"
      ]
     },
     "execution_count": 20,
     "metadata": {},
     "output_type": "execute_result"
    }
   ],
   "source": [
    "Newfrm.dtypes"
   ]
  },
  {
   "cell_type": "code",
   "execution_count": 21,
   "metadata": {},
   "outputs": [],
   "source": [
    "Newfrm[0][0] = 12"
   ]
  },
  {
   "cell_type": "code",
   "execution_count": 22,
   "metadata": {},
   "outputs": [
    {
     "data": {
      "text/html": [
       "<div>\n",
       "<style scoped>\n",
       "    .dataframe tbody tr th:only-of-type {\n",
       "        vertical-align: middle;\n",
       "    }\n",
       "\n",
       "    .dataframe tbody tr th {\n",
       "        vertical-align: top;\n",
       "    }\n",
       "\n",
       "    .dataframe thead th {\n",
       "        text-align: right;\n",
       "    }\n",
       "</style>\n",
       "<table border=\"1\" class=\"dataframe\">\n",
       "  <thead>\n",
       "    <tr style=\"text-align: right;\">\n",
       "      <th></th>\n",
       "      <th>0</th>\n",
       "      <th>1</th>\n",
       "      <th>2</th>\n",
       "      <th>3</th>\n",
       "      <th>4</th>\n",
       "    </tr>\n",
       "  </thead>\n",
       "  <tbody>\n",
       "    <tr>\n",
       "      <th>0</th>\n",
       "      <td>12.000000</td>\n",
       "      <td>0.197345</td>\n",
       "      <td>0.235238</td>\n",
       "      <td>0.254297</td>\n",
       "      <td>0.928096</td>\n",
       "    </tr>\n",
       "    <tr>\n",
       "      <th>1</th>\n",
       "      <td>0.334833</td>\n",
       "      <td>0.085284</td>\n",
       "      <td>0.923694</td>\n",
       "      <td>0.975214</td>\n",
       "      <td>0.267598</td>\n",
       "    </tr>\n",
       "    <tr>\n",
       "      <th>2</th>\n",
       "      <td>0.788227</td>\n",
       "      <td>0.452967</td>\n",
       "      <td>0.288050</td>\n",
       "      <td>0.260938</td>\n",
       "      <td>0.096581</td>\n",
       "    </tr>\n",
       "    <tr>\n",
       "      <th>3</th>\n",
       "      <td>0.579657</td>\n",
       "      <td>0.537426</td>\n",
       "      <td>0.647384</td>\n",
       "      <td>0.421176</td>\n",
       "      <td>0.875440</td>\n",
       "    </tr>\n",
       "    <tr>\n",
       "      <th>4</th>\n",
       "      <td>0.936031</td>\n",
       "      <td>0.803866</td>\n",
       "      <td>0.179141</td>\n",
       "      <td>0.641701</td>\n",
       "      <td>0.717267</td>\n",
       "    </tr>\n",
       "  </tbody>\n",
       "</table>\n",
       "</div>"
      ],
      "text/plain": [
       "           0         1         2         3         4\n",
       "0  12.000000  0.197345  0.235238  0.254297  0.928096\n",
       "1   0.334833  0.085284  0.923694  0.975214  0.267598\n",
       "2   0.788227  0.452967  0.288050  0.260938  0.096581\n",
       "3   0.579657  0.537426  0.647384  0.421176  0.875440\n",
       "4   0.936031  0.803866  0.179141  0.641701  0.717267"
      ]
     },
     "execution_count": 22,
     "metadata": {},
     "output_type": "execute_result"
    }
   ],
   "source": [
    "Newfrm.head()"
   ]
  },
  {
   "cell_type": "code",
   "execution_count": 23,
   "metadata": {},
   "outputs": [
    {
     "data": {
      "text/plain": [
       "0    float64\n",
       "1    float64\n",
       "2    float64\n",
       "3    float64\n",
       "4    float64\n",
       "dtype: object"
      ]
     },
     "execution_count": 23,
     "metadata": {},
     "output_type": "execute_result"
    }
   ],
   "source": [
    "Newfrm.dtypes"
   ]
  },
  {
   "cell_type": "code",
   "execution_count": 24,
   "metadata": {},
   "outputs": [],
   "source": [
    "Newfrm[0][0] = np.random.rand(1)"
   ]
  },
  {
   "cell_type": "code",
   "execution_count": 25,
   "metadata": {},
   "outputs": [
    {
     "data": {
      "text/html": [
       "<div>\n",
       "<style scoped>\n",
       "    .dataframe tbody tr th:only-of-type {\n",
       "        vertical-align: middle;\n",
       "    }\n",
       "\n",
       "    .dataframe tbody tr th {\n",
       "        vertical-align: top;\n",
       "    }\n",
       "\n",
       "    .dataframe thead th {\n",
       "        text-align: right;\n",
       "    }\n",
       "</style>\n",
       "<table border=\"1\" class=\"dataframe\">\n",
       "  <thead>\n",
       "    <tr style=\"text-align: right;\">\n",
       "      <th></th>\n",
       "      <th>0</th>\n",
       "      <th>1</th>\n",
       "      <th>2</th>\n",
       "      <th>3</th>\n",
       "      <th>4</th>\n",
       "    </tr>\n",
       "  </thead>\n",
       "  <tbody>\n",
       "    <tr>\n",
       "      <th>0</th>\n",
       "      <td>0.136430</td>\n",
       "      <td>0.197345</td>\n",
       "      <td>0.235238</td>\n",
       "      <td>0.254297</td>\n",
       "      <td>0.928096</td>\n",
       "    </tr>\n",
       "    <tr>\n",
       "      <th>1</th>\n",
       "      <td>0.334833</td>\n",
       "      <td>0.085284</td>\n",
       "      <td>0.923694</td>\n",
       "      <td>0.975214</td>\n",
       "      <td>0.267598</td>\n",
       "    </tr>\n",
       "    <tr>\n",
       "      <th>2</th>\n",
       "      <td>0.788227</td>\n",
       "      <td>0.452967</td>\n",
       "      <td>0.288050</td>\n",
       "      <td>0.260938</td>\n",
       "      <td>0.096581</td>\n",
       "    </tr>\n",
       "    <tr>\n",
       "      <th>3</th>\n",
       "      <td>0.579657</td>\n",
       "      <td>0.537426</td>\n",
       "      <td>0.647384</td>\n",
       "      <td>0.421176</td>\n",
       "      <td>0.875440</td>\n",
       "    </tr>\n",
       "    <tr>\n",
       "      <th>4</th>\n",
       "      <td>0.936031</td>\n",
       "      <td>0.803866</td>\n",
       "      <td>0.179141</td>\n",
       "      <td>0.641701</td>\n",
       "      <td>0.717267</td>\n",
       "    </tr>\n",
       "  </tbody>\n",
       "</table>\n",
       "</div>"
      ],
      "text/plain": [
       "          0         1         2         3         4\n",
       "0  0.136430  0.197345  0.235238  0.254297  0.928096\n",
       "1  0.334833  0.085284  0.923694  0.975214  0.267598\n",
       "2  0.788227  0.452967  0.288050  0.260938  0.096581\n",
       "3  0.579657  0.537426  0.647384  0.421176  0.875440\n",
       "4  0.936031  0.803866  0.179141  0.641701  0.717267"
      ]
     },
     "execution_count": 25,
     "metadata": {},
     "output_type": "execute_result"
    }
   ],
   "source": [
    "Newfrm.head()"
   ]
  },
  {
   "cell_type": "code",
   "execution_count": 26,
   "metadata": {},
   "outputs": [
    {
     "data": {
      "text/html": [
       "<div>\n",
       "<style scoped>\n",
       "    .dataframe tbody tr th:only-of-type {\n",
       "        vertical-align: middle;\n",
       "    }\n",
       "\n",
       "    .dataframe tbody tr th {\n",
       "        vertical-align: top;\n",
       "    }\n",
       "\n",
       "    .dataframe thead tr th {\n",
       "        text-align: left;\n",
       "    }\n",
       "</style>\n",
       "<table border=\"1\" class=\"dataframe\">\n",
       "  <thead>\n",
       "    <tr>\n",
       "      <th></th>\n",
       "      <th>0</th>\n",
       "      <th>1</th>\n",
       "      <th>2</th>\n",
       "      <th>3</th>\n",
       "      <th>4</th>\n",
       "      <th>5</th>\n",
       "      <th>6</th>\n",
       "      <th>7</th>\n",
       "      <th>8</th>\n",
       "      <th>9</th>\n",
       "      <th>10</th>\n",
       "      <th>11</th>\n",
       "      <th>12</th>\n",
       "      <th>13</th>\n",
       "      <th>14</th>\n",
       "      <th>15</th>\n",
       "      <th>16</th>\n",
       "      <th>17</th>\n",
       "      <th>18</th>\n",
       "      <th>19</th>\n",
       "    </tr>\n",
       "  </thead>\n",
       "  <tbody>\n",
       "    <tr>\n",
       "      <th>0</th>\n",
       "      <td>0.136430</td>\n",
       "      <td>0.334833</td>\n",
       "      <td>0.788227</td>\n",
       "      <td>0.579657</td>\n",
       "      <td>0.936031</td>\n",
       "      <td>0.752625</td>\n",
       "      <td>0.278662</td>\n",
       "      <td>0.826835</td>\n",
       "      <td>0.744211</td>\n",
       "      <td>0.673550</td>\n",
       "      <td>0.528876</td>\n",
       "      <td>0.256089</td>\n",
       "      <td>0.712851</td>\n",
       "      <td>0.348891</td>\n",
       "      <td>0.452530</td>\n",
       "      <td>0.384395</td>\n",
       "      <td>0.174862</td>\n",
       "      <td>0.963164</td>\n",
       "      <td>0.350207</td>\n",
       "      <td>0.975627</td>\n",
       "    </tr>\n",
       "    <tr>\n",
       "      <th>1</th>\n",
       "      <td>0.197345</td>\n",
       "      <td>0.085284</td>\n",
       "      <td>0.452967</td>\n",
       "      <td>0.537426</td>\n",
       "      <td>0.803866</td>\n",
       "      <td>0.025810</td>\n",
       "      <td>0.817152</td>\n",
       "      <td>0.847329</td>\n",
       "      <td>0.331877</td>\n",
       "      <td>0.712869</td>\n",
       "      <td>0.705923</td>\n",
       "      <td>0.291395</td>\n",
       "      <td>0.344746</td>\n",
       "      <td>0.687245</td>\n",
       "      <td>0.950501</td>\n",
       "      <td>0.252830</td>\n",
       "      <td>0.208454</td>\n",
       "      <td>0.977180</td>\n",
       "      <td>0.998969</td>\n",
       "      <td>0.636619</td>\n",
       "    </tr>\n",
       "    <tr>\n",
       "      <th>2</th>\n",
       "      <td>0.235238</td>\n",
       "      <td>0.923694</td>\n",
       "      <td>0.288050</td>\n",
       "      <td>0.647384</td>\n",
       "      <td>0.179141</td>\n",
       "      <td>0.219871</td>\n",
       "      <td>0.290114</td>\n",
       "      <td>0.703882</td>\n",
       "      <td>0.891165</td>\n",
       "      <td>0.108029</td>\n",
       "      <td>0.245815</td>\n",
       "      <td>0.192946</td>\n",
       "      <td>0.935864</td>\n",
       "      <td>0.378038</td>\n",
       "      <td>0.946661</td>\n",
       "      <td>0.355717</td>\n",
       "      <td>0.511891</td>\n",
       "      <td>0.858009</td>\n",
       "      <td>0.346088</td>\n",
       "      <td>0.844169</td>\n",
       "    </tr>\n",
       "    <tr>\n",
       "      <th>3</th>\n",
       "      <td>0.254297</td>\n",
       "      <td>0.975214</td>\n",
       "      <td>0.260938</td>\n",
       "      <td>0.421176</td>\n",
       "      <td>0.641701</td>\n",
       "      <td>0.326931</td>\n",
       "      <td>0.936928</td>\n",
       "      <td>0.519730</td>\n",
       "      <td>0.060118</td>\n",
       "      <td>0.969732</td>\n",
       "      <td>0.217185</td>\n",
       "      <td>0.024230</td>\n",
       "      <td>0.701732</td>\n",
       "      <td>0.414083</td>\n",
       "      <td>0.819245</td>\n",
       "      <td>0.310949</td>\n",
       "      <td>0.091844</td>\n",
       "      <td>0.486975</td>\n",
       "      <td>0.177553</td>\n",
       "      <td>0.491334</td>\n",
       "    </tr>\n",
       "    <tr>\n",
       "      <th>4</th>\n",
       "      <td>0.928096</td>\n",
       "      <td>0.267598</td>\n",
       "      <td>0.096581</td>\n",
       "      <td>0.875440</td>\n",
       "      <td>0.717267</td>\n",
       "      <td>0.870030</td>\n",
       "      <td>0.941355</td>\n",
       "      <td>0.127943</td>\n",
       "      <td>0.173619</td>\n",
       "      <td>0.426157</td>\n",
       "      <td>0.213776</td>\n",
       "      <td>0.637150</td>\n",
       "      <td>0.517525</td>\n",
       "      <td>0.752374</td>\n",
       "      <td>0.692796</td>\n",
       "      <td>0.073767</td>\n",
       "      <td>0.454280</td>\n",
       "      <td>0.213811</td>\n",
       "      <td>0.491843</td>\n",
       "      <td>0.649895</td>\n",
       "    </tr>\n",
       "  </tbody>\n",
       "</table>\n",
       "</div>"
      ],
      "text/plain": [
       "         0         1         2         3         4         5         6   \\\n",
       "0  0.136430  0.334833  0.788227  0.579657  0.936031  0.752625  0.278662   \n",
       "1  0.197345  0.085284  0.452967  0.537426  0.803866  0.025810  0.817152   \n",
       "2  0.235238  0.923694  0.288050  0.647384  0.179141  0.219871  0.290114   \n",
       "3  0.254297  0.975214  0.260938  0.421176  0.641701  0.326931  0.936928   \n",
       "4  0.928096  0.267598  0.096581  0.875440  0.717267  0.870030  0.941355   \n",
       "\n",
       "         7         8         9         10        11        12        13  \\\n",
       "0  0.826835  0.744211  0.673550  0.528876  0.256089  0.712851  0.348891   \n",
       "1  0.847329  0.331877  0.712869  0.705923  0.291395  0.344746  0.687245   \n",
       "2  0.703882  0.891165  0.108029  0.245815  0.192946  0.935864  0.378038   \n",
       "3  0.519730  0.060118  0.969732  0.217185  0.024230  0.701732  0.414083   \n",
       "4  0.127943  0.173619  0.426157  0.213776  0.637150  0.517525  0.752374   \n",
       "\n",
       "         14        15        16        17        18        19  \n",
       "0  0.452530  0.384395  0.174862  0.963164  0.350207  0.975627  \n",
       "1  0.950501  0.252830  0.208454  0.977180  0.998969  0.636619  \n",
       "2  0.946661  0.355717  0.511891  0.858009  0.346088  0.844169  \n",
       "3  0.819245  0.310949  0.091844  0.486975  0.177553  0.491334  \n",
       "4  0.692796  0.073767  0.454280  0.213811  0.491843  0.649895  "
      ]
     },
     "execution_count": 26,
     "metadata": {},
     "output_type": "execute_result"
    }
   ],
   "source": [
    "Newfrm.T    #Transpose"
   ]
  },
  {
   "cell_type": "code",
   "execution_count": 27,
   "metadata": {},
   "outputs": [
    {
     "data": {
      "text/plain": [
       "RangeIndex(start=0, stop=5, step=1)"
      ]
     },
     "execution_count": 27,
     "metadata": {},
     "output_type": "execute_result"
    }
   ],
   "source": [
    "Newfrm.columns"
   ]
  },
  {
   "cell_type": "code",
   "execution_count": 28,
   "metadata": {},
   "outputs": [
    {
     "data": {
      "text/plain": [
       "array([[0.13643048, 0.19734496, 0.23523762, 0.25429729, 0.9280961 ],\n",
       "       [0.33483348, 0.08528368, 0.92369424, 0.97521374, 0.26759767],\n",
       "       [0.78822672, 0.45296747, 0.28805041, 0.26093822, 0.09658141],\n",
       "       [0.57965731, 0.53742637, 0.64738382, 0.42117551, 0.8754403 ],\n",
       "       [0.93603077, 0.80386573, 0.17914113, 0.6417009 , 0.71726746],\n",
       "       [0.75262528, 0.02580955, 0.21987101, 0.32693147, 0.87002969],\n",
       "       [0.27866207, 0.81715198, 0.29011376, 0.936928  , 0.94135517],\n",
       "       [0.82683527, 0.84732926, 0.70388161, 0.51972956, 0.12794285],\n",
       "       [0.74421085, 0.33187733, 0.89116518, 0.06011822, 0.17361902],\n",
       "       [0.67354981, 0.71286893, 0.10802871, 0.96973215, 0.42615716],\n",
       "       [0.52887578, 0.70592264, 0.24581481, 0.21718491, 0.21377638],\n",
       "       [0.2560889 , 0.29139529, 0.19294592, 0.02423007, 0.63715004],\n",
       "       [0.71285126, 0.34474592, 0.93586441, 0.70173244, 0.5175254 ],\n",
       "       [0.34889061, 0.68724539, 0.37803845, 0.41408328, 0.75237447],\n",
       "       [0.45252967, 0.950501  , 0.94666072, 0.81924538, 0.69279628],\n",
       "       [0.38439533, 0.25283023, 0.35571681, 0.31094924, 0.07376727],\n",
       "       [0.17486179, 0.20845392, 0.5118906 , 0.09184429, 0.45428024],\n",
       "       [0.96316448, 0.9771796 , 0.8580094 , 0.48697491, 0.21381146],\n",
       "       [0.3502075 , 0.99896939, 0.34608806, 0.17755258, 0.49184313],\n",
       "       [0.97562713, 0.6366195 , 0.8441686 , 0.49133391, 0.64989501]])"
      ]
     },
     "execution_count": 28,
     "metadata": {},
     "output_type": "execute_result"
    }
   ],
   "source": [
    "Newfrm.to_numpy()"
   ]
  },
  {
   "cell_type": "code",
   "execution_count": 71,
   "metadata": {},
   "outputs": [],
   "source": [
    "hed = Newfrm.sort_index(axis=0, ascending=False)"
   ]
  },
  {
   "cell_type": "code",
   "execution_count": 72,
   "metadata": {},
   "outputs": [
    {
     "data": {
      "text/html": [
       "<div>\n",
       "<style scoped>\n",
       "    .dataframe tbody tr th:only-of-type {\n",
       "        vertical-align: middle;\n",
       "    }\n",
       "\n",
       "    .dataframe tbody tr th {\n",
       "        vertical-align: top;\n",
       "    }\n",
       "\n",
       "    .dataframe thead th {\n",
       "        text-align: right;\n",
       "    }\n",
       "</style>\n",
       "<table border=\"1\" class=\"dataframe\">\n",
       "  <thead>\n",
       "    <tr style=\"text-align: right;\">\n",
       "      <th></th>\n",
       "      <th>A</th>\n",
       "      <th>B</th>\n",
       "      <th>C</th>\n",
       "      <th>D</th>\n",
       "      <th>E</th>\n",
       "      <th>0</th>\n",
       "    </tr>\n",
       "  </thead>\n",
       "  <tbody>\n",
       "    <tr>\n",
       "      <th>19</th>\n",
       "      <td>0.975627</td>\n",
       "      <td>0.293053</td>\n",
       "      <td>0.844169</td>\n",
       "      <td>0.491334</td>\n",
       "      <td>0.649895</td>\n",
       "      <td>NaN</td>\n",
       "    </tr>\n",
       "    <tr>\n",
       "      <th>18</th>\n",
       "      <td>0.350207</td>\n",
       "      <td>1.097589</td>\n",
       "      <td>0.346088</td>\n",
       "      <td>0.177553</td>\n",
       "      <td>0.491843</td>\n",
       "      <td>NaN</td>\n",
       "    </tr>\n",
       "    <tr>\n",
       "      <th>17</th>\n",
       "      <td>0.963164</td>\n",
       "      <td>2.239631</td>\n",
       "      <td>0.858009</td>\n",
       "      <td>0.486975</td>\n",
       "      <td>0.213811</td>\n",
       "      <td>NaN</td>\n",
       "    </tr>\n",
       "    <tr>\n",
       "      <th>16</th>\n",
       "      <td>0.174862</td>\n",
       "      <td>-1.268658</td>\n",
       "      <td>0.511891</td>\n",
       "      <td>0.091844</td>\n",
       "      <td>0.454280</td>\n",
       "      <td>NaN</td>\n",
       "    </tr>\n",
       "    <tr>\n",
       "      <th>15</th>\n",
       "      <td>0.384395</td>\n",
       "      <td>-0.343599</td>\n",
       "      <td>0.355717</td>\n",
       "      <td>0.310949</td>\n",
       "      <td>0.073767</td>\n",
       "      <td>NaN</td>\n",
       "    </tr>\n",
       "  </tbody>\n",
       "</table>\n",
       "</div>"
      ],
      "text/plain": [
       "           A         B         C         D         E   0\n",
       "19  0.975627  0.293053  0.844169  0.491334  0.649895 NaN\n",
       "18  0.350207  1.097589  0.346088  0.177553  0.491843 NaN\n",
       "17  0.963164  2.239631  0.858009  0.486975  0.213811 NaN\n",
       "16  0.174862 -1.268658  0.511891  0.091844  0.454280 NaN\n",
       "15  0.384395 -0.343599  0.355717  0.310949  0.073767 NaN"
      ]
     },
     "execution_count": 72,
     "metadata": {},
     "output_type": "execute_result"
    }
   ],
   "source": [
    "hed.head()"
   ]
  },
  {
   "cell_type": "code",
   "execution_count": 31,
   "metadata": {},
   "outputs": [
    {
     "name": "stdout",
     "output_type": "stream",
     "text": [
      "          4         3         2         1         0\n",
      "0  0.928096  0.254297  0.235238  0.197345  0.136430\n",
      "1  0.267598  0.975214  0.923694  0.085284  0.334833\n",
      "2  0.096581  0.260938  0.288050  0.452967  0.788227\n",
      "3  0.875440  0.421176  0.647384  0.537426  0.579657\n",
      "4  0.717267  0.641701  0.179141  0.803866  0.936031\n"
     ]
    }
   ],
   "source": [
    "hed1 = Newfrm.sort_index(axis=1, ascending=False)\n",
    "\n",
    "print(hed1.head())"
   ]
  },
  {
   "cell_type": "code",
   "execution_count": 32,
   "metadata": {},
   "outputs": [
    {
     "data": {
      "text/plain": [
       "pandas.core.series.Series"
      ]
     },
     "execution_count": 32,
     "metadata": {},
     "output_type": "execute_result"
    }
   ],
   "source": [
    "type(Newfrm[0])   #Series \"one dimention is a one series\""
   ]
  },
  {
   "cell_type": "code",
   "execution_count": 33,
   "metadata": {},
   "outputs": [],
   "source": [
    "frem = Newfrm.copy()"
   ]
  },
  {
   "cell_type": "code",
   "execution_count": 34,
   "metadata": {},
   "outputs": [],
   "source": [
    "frem[0][1] = 0.558916"
   ]
  },
  {
   "cell_type": "code",
   "execution_count": 35,
   "metadata": {},
   "outputs": [
    {
     "data": {
      "text/html": [
       "<div>\n",
       "<style scoped>\n",
       "    .dataframe tbody tr th:only-of-type {\n",
       "        vertical-align: middle;\n",
       "    }\n",
       "\n",
       "    .dataframe tbody tr th {\n",
       "        vertical-align: top;\n",
       "    }\n",
       "\n",
       "    .dataframe thead th {\n",
       "        text-align: right;\n",
       "    }\n",
       "</style>\n",
       "<table border=\"1\" class=\"dataframe\">\n",
       "  <thead>\n",
       "    <tr style=\"text-align: right;\">\n",
       "      <th></th>\n",
       "      <th>0</th>\n",
       "      <th>1</th>\n",
       "      <th>2</th>\n",
       "      <th>3</th>\n",
       "      <th>4</th>\n",
       "    </tr>\n",
       "  </thead>\n",
       "  <tbody>\n",
       "    <tr>\n",
       "      <th>0</th>\n",
       "      <td>0.136430</td>\n",
       "      <td>0.197345</td>\n",
       "      <td>0.235238</td>\n",
       "      <td>0.254297</td>\n",
       "      <td>0.928096</td>\n",
       "    </tr>\n",
       "    <tr>\n",
       "      <th>1</th>\n",
       "      <td>0.558916</td>\n",
       "      <td>0.085284</td>\n",
       "      <td>0.923694</td>\n",
       "      <td>0.975214</td>\n",
       "      <td>0.267598</td>\n",
       "    </tr>\n",
       "    <tr>\n",
       "      <th>2</th>\n",
       "      <td>0.788227</td>\n",
       "      <td>0.452967</td>\n",
       "      <td>0.288050</td>\n",
       "      <td>0.260938</td>\n",
       "      <td>0.096581</td>\n",
       "    </tr>\n",
       "    <tr>\n",
       "      <th>3</th>\n",
       "      <td>0.579657</td>\n",
       "      <td>0.537426</td>\n",
       "      <td>0.647384</td>\n",
       "      <td>0.421176</td>\n",
       "      <td>0.875440</td>\n",
       "    </tr>\n",
       "    <tr>\n",
       "      <th>4</th>\n",
       "      <td>0.936031</td>\n",
       "      <td>0.803866</td>\n",
       "      <td>0.179141</td>\n",
       "      <td>0.641701</td>\n",
       "      <td>0.717267</td>\n",
       "    </tr>\n",
       "  </tbody>\n",
       "</table>\n",
       "</div>"
      ],
      "text/plain": [
       "          0         1         2         3         4\n",
       "0  0.136430  0.197345  0.235238  0.254297  0.928096\n",
       "1  0.558916  0.085284  0.923694  0.975214  0.267598\n",
       "2  0.788227  0.452967  0.288050  0.260938  0.096581\n",
       "3  0.579657  0.537426  0.647384  0.421176  0.875440\n",
       "4  0.936031  0.803866  0.179141  0.641701  0.717267"
      ]
     },
     "execution_count": 35,
     "metadata": {},
     "output_type": "execute_result"
    }
   ],
   "source": [
    "frem.head()"
   ]
  },
  {
   "cell_type": "code",
   "execution_count": 36,
   "metadata": {},
   "outputs": [],
   "source": [
    "Newfrm.columns = list(\"ABCDE\")"
   ]
  },
  {
   "cell_type": "code",
   "execution_count": 37,
   "metadata": {},
   "outputs": [
    {
     "data": {
      "text/html": [
       "<div>\n",
       "<style scoped>\n",
       "    .dataframe tbody tr th:only-of-type {\n",
       "        vertical-align: middle;\n",
       "    }\n",
       "\n",
       "    .dataframe tbody tr th {\n",
       "        vertical-align: top;\n",
       "    }\n",
       "\n",
       "    .dataframe thead th {\n",
       "        text-align: right;\n",
       "    }\n",
       "</style>\n",
       "<table border=\"1\" class=\"dataframe\">\n",
       "  <thead>\n",
       "    <tr style=\"text-align: right;\">\n",
       "      <th></th>\n",
       "      <th>A</th>\n",
       "      <th>B</th>\n",
       "      <th>C</th>\n",
       "      <th>D</th>\n",
       "      <th>E</th>\n",
       "    </tr>\n",
       "  </thead>\n",
       "  <tbody>\n",
       "    <tr>\n",
       "      <th>3</th>\n",
       "      <td>0.579657</td>\n",
       "      <td>0.537426</td>\n",
       "      <td>0.647384</td>\n",
       "      <td>0.421176</td>\n",
       "      <td>0.875440</td>\n",
       "    </tr>\n",
       "    <tr>\n",
       "      <th>4</th>\n",
       "      <td>0.936031</td>\n",
       "      <td>0.803866</td>\n",
       "      <td>0.179141</td>\n",
       "      <td>0.641701</td>\n",
       "      <td>0.717267</td>\n",
       "    </tr>\n",
       "    <tr>\n",
       "      <th>5</th>\n",
       "      <td>0.752625</td>\n",
       "      <td>0.025810</td>\n",
       "      <td>0.219871</td>\n",
       "      <td>0.326931</td>\n",
       "      <td>0.870030</td>\n",
       "    </tr>\n",
       "    <tr>\n",
       "      <th>12</th>\n",
       "      <td>0.712851</td>\n",
       "      <td>0.344746</td>\n",
       "      <td>0.935864</td>\n",
       "      <td>0.701732</td>\n",
       "      <td>0.517525</td>\n",
       "    </tr>\n",
       "    <tr>\n",
       "      <th>19</th>\n",
       "      <td>0.975627</td>\n",
       "      <td>0.636619</td>\n",
       "      <td>0.844169</td>\n",
       "      <td>0.491334</td>\n",
       "      <td>0.649895</td>\n",
       "    </tr>\n",
       "  </tbody>\n",
       "</table>\n",
       "</div>"
      ],
      "text/plain": [
       "           A         B         C         D         E\n",
       "3   0.579657  0.537426  0.647384  0.421176  0.875440\n",
       "4   0.936031  0.803866  0.179141  0.641701  0.717267\n",
       "5   0.752625  0.025810  0.219871  0.326931  0.870030\n",
       "12  0.712851  0.344746  0.935864  0.701732  0.517525\n",
       "19  0.975627  0.636619  0.844169  0.491334  0.649895"
      ]
     },
     "execution_count": 37,
     "metadata": {},
     "output_type": "execute_result"
    }
   ],
   "source": [
    "Newfrm.loc[(Newfrm[\"A\"]>.5) & (Newfrm[\"E\"]>.50)]"
   ]
  },
  {
   "cell_type": "code",
   "execution_count": 38,
   "metadata": {},
   "outputs": [
    {
     "data": {
      "text/html": [
       "<div>\n",
       "<style scoped>\n",
       "    .dataframe tbody tr th:only-of-type {\n",
       "        vertical-align: middle;\n",
       "    }\n",
       "\n",
       "    .dataframe tbody tr th {\n",
       "        vertical-align: top;\n",
       "    }\n",
       "\n",
       "    .dataframe thead th {\n",
       "        text-align: right;\n",
       "    }\n",
       "</style>\n",
       "<table border=\"1\" class=\"dataframe\">\n",
       "  <thead>\n",
       "    <tr style=\"text-align: right;\">\n",
       "      <th></th>\n",
       "      <th>A</th>\n",
       "      <th>B</th>\n",
       "      <th>C</th>\n",
       "      <th>D</th>\n",
       "      <th>E</th>\n",
       "    </tr>\n",
       "  </thead>\n",
       "  <tbody>\n",
       "    <tr>\n",
       "      <th>0</th>\n",
       "      <td>0.13643</td>\n",
       "      <td>0.197345</td>\n",
       "      <td>0.235238</td>\n",
       "      <td>0.254297</td>\n",
       "      <td>0.928096</td>\n",
       "    </tr>\n",
       "  </tbody>\n",
       "</table>\n",
       "</div>"
      ],
      "text/plain": [
       "         A         B         C         D         E\n",
       "0  0.13643  0.197345  0.235238  0.254297  0.928096"
      ]
     },
     "execution_count": 38,
     "metadata": {},
     "output_type": "execute_result"
    }
   ],
   "source": [
    "Newfrm.loc[0,:]"
   ]
  },
  {
   "cell_type": "code",
   "execution_count": 39,
   "metadata": {},
   "outputs": [
    {
     "data": {
      "text/plain": [
       "0    0.197345\n",
       "1    0.085284\n",
       "2    0.452967\n",
       "3    0.537426\n",
       "4    0.803866\n",
       "5    0.025810\n",
       "Name: B, dtype: float64"
      ]
     },
     "execution_count": 39,
     "metadata": {},
     "output_type": "execute_result"
    }
   ],
   "source": [
    "Newfrm.loc[:5,'B']"
   ]
  },
  {
   "cell_type": "code",
   "execution_count": 40,
   "metadata": {},
   "outputs": [
    {
     "data": {
      "text/plain": [
       "pandas.core.series.Series"
      ]
     },
     "execution_count": 40,
     "metadata": {},
     "output_type": "execute_result"
    }
   ],
   "source": [
    "type(Newfrm.loc[:5,'B'])"
   ]
  },
  {
   "cell_type": "code",
   "execution_count": 41,
   "metadata": {},
   "outputs": [],
   "source": [
    "Newfrm.loc[0,0] = 5120    #if not find given value creat it new frame"
   ]
  },
  {
   "cell_type": "code",
   "execution_count": 42,
   "metadata": {},
   "outputs": [
    {
     "data": {
      "text/html": [
       "<div>\n",
       "<style scoped>\n",
       "    .dataframe tbody tr th:only-of-type {\n",
       "        vertical-align: middle;\n",
       "    }\n",
       "\n",
       "    .dataframe tbody tr th {\n",
       "        vertical-align: top;\n",
       "    }\n",
       "\n",
       "    .dataframe thead th {\n",
       "        text-align: right;\n",
       "    }\n",
       "</style>\n",
       "<table border=\"1\" class=\"dataframe\">\n",
       "  <thead>\n",
       "    <tr style=\"text-align: right;\">\n",
       "      <th></th>\n",
       "      <th>A</th>\n",
       "      <th>B</th>\n",
       "      <th>C</th>\n",
       "      <th>D</th>\n",
       "      <th>E</th>\n",
       "      <th>0</th>\n",
       "    </tr>\n",
       "  </thead>\n",
       "  <tbody>\n",
       "    <tr>\n",
       "      <th>0</th>\n",
       "      <td>0.136430</td>\n",
       "      <td>0.197345</td>\n",
       "      <td>0.235238</td>\n",
       "      <td>0.254297</td>\n",
       "      <td>0.928096</td>\n",
       "      <td>5120.0</td>\n",
       "    </tr>\n",
       "    <tr>\n",
       "      <th>1</th>\n",
       "      <td>0.334833</td>\n",
       "      <td>0.085284</td>\n",
       "      <td>0.923694</td>\n",
       "      <td>0.975214</td>\n",
       "      <td>0.267598</td>\n",
       "      <td>NaN</td>\n",
       "    </tr>\n",
       "    <tr>\n",
       "      <th>2</th>\n",
       "      <td>0.788227</td>\n",
       "      <td>0.452967</td>\n",
       "      <td>0.288050</td>\n",
       "      <td>0.260938</td>\n",
       "      <td>0.096581</td>\n",
       "      <td>NaN</td>\n",
       "    </tr>\n",
       "    <tr>\n",
       "      <th>3</th>\n",
       "      <td>0.579657</td>\n",
       "      <td>0.537426</td>\n",
       "      <td>0.647384</td>\n",
       "      <td>0.421176</td>\n",
       "      <td>0.875440</td>\n",
       "      <td>NaN</td>\n",
       "    </tr>\n",
       "    <tr>\n",
       "      <th>4</th>\n",
       "      <td>0.936031</td>\n",
       "      <td>0.803866</td>\n",
       "      <td>0.179141</td>\n",
       "      <td>0.641701</td>\n",
       "      <td>0.717267</td>\n",
       "      <td>NaN</td>\n",
       "    </tr>\n",
       "  </tbody>\n",
       "</table>\n",
       "</div>"
      ],
      "text/plain": [
       "          A         B         C         D         E       0\n",
       "0  0.136430  0.197345  0.235238  0.254297  0.928096  5120.0\n",
       "1  0.334833  0.085284  0.923694  0.975214  0.267598     NaN\n",
       "2  0.788227  0.452967  0.288050  0.260938  0.096581     NaN\n",
       "3  0.579657  0.537426  0.647384  0.421176  0.875440     NaN\n",
       "4  0.936031  0.803866  0.179141  0.641701  0.717267     NaN"
      ]
     },
     "execution_count": 42,
     "metadata": {},
     "output_type": "execute_result"
    }
   ],
   "source": [
    "Newfrm.head()"
   ]
  },
  {
   "cell_type": "code",
   "execution_count": 43,
   "metadata": {},
   "outputs": [
    {
     "data": {
      "text/html": [
       "<div>\n",
       "<style scoped>\n",
       "    .dataframe tbody tr th:only-of-type {\n",
       "        vertical-align: middle;\n",
       "    }\n",
       "\n",
       "    .dataframe tbody tr th {\n",
       "        vertical-align: top;\n",
       "    }\n",
       "\n",
       "    .dataframe thead th {\n",
       "        text-align: right;\n",
       "    }\n",
       "</style>\n",
       "<table border=\"1\" class=\"dataframe\">\n",
       "  <thead>\n",
       "    <tr style=\"text-align: right;\">\n",
       "      <th></th>\n",
       "      <th>A</th>\n",
       "      <th>B</th>\n",
       "      <th>C</th>\n",
       "      <th>D</th>\n",
       "      <th>E</th>\n",
       "    </tr>\n",
       "  </thead>\n",
       "  <tbody>\n",
       "    <tr>\n",
       "      <th>0</th>\n",
       "      <td>0.136430</td>\n",
       "      <td>0.197345</td>\n",
       "      <td>0.235238</td>\n",
       "      <td>0.254297</td>\n",
       "      <td>0.928096</td>\n",
       "    </tr>\n",
       "    <tr>\n",
       "      <th>1</th>\n",
       "      <td>0.334833</td>\n",
       "      <td>0.085284</td>\n",
       "      <td>0.923694</td>\n",
       "      <td>0.975214</td>\n",
       "      <td>0.267598</td>\n",
       "    </tr>\n",
       "    <tr>\n",
       "      <th>2</th>\n",
       "      <td>0.788227</td>\n",
       "      <td>0.452967</td>\n",
       "      <td>0.288050</td>\n",
       "      <td>0.260938</td>\n",
       "      <td>0.096581</td>\n",
       "    </tr>\n",
       "    <tr>\n",
       "      <th>3</th>\n",
       "      <td>0.579657</td>\n",
       "      <td>0.537426</td>\n",
       "      <td>0.647384</td>\n",
       "      <td>0.421176</td>\n",
       "      <td>0.875440</td>\n",
       "    </tr>\n",
       "    <tr>\n",
       "      <th>4</th>\n",
       "      <td>0.936031</td>\n",
       "      <td>0.803866</td>\n",
       "      <td>0.179141</td>\n",
       "      <td>0.641701</td>\n",
       "      <td>0.717267</td>\n",
       "    </tr>\n",
       "  </tbody>\n",
       "</table>\n",
       "</div>"
      ],
      "text/plain": [
       "          A         B         C         D         E\n",
       "0  0.136430  0.197345  0.235238  0.254297  0.928096\n",
       "1  0.334833  0.085284  0.923694  0.975214  0.267598\n",
       "2  0.788227  0.452967  0.288050  0.260938  0.096581\n",
       "3  0.579657  0.537426  0.647384  0.421176  0.875440\n",
       "4  0.936031  0.803866  0.179141  0.641701  0.717267"
      ]
     },
     "execution_count": 43,
     "metadata": {},
     "output_type": "execute_result"
    }
   ],
   "source": [
    "Newfrm.drop(0, axis=1).head()"
   ]
  },
  {
   "cell_type": "code",
   "execution_count": 44,
   "metadata": {},
   "outputs": [],
   "source": [
    "Newfrm.loc[0,\"B\"] = 120.12540"
   ]
  },
  {
   "cell_type": "code",
   "execution_count": 45,
   "metadata": {},
   "outputs": [
    {
     "data": {
      "text/plain": [
       "0    120.1254\n",
       "Name: B, dtype: float64"
      ]
     },
     "execution_count": 45,
     "metadata": {},
     "output_type": "execute_result"
    }
   ],
   "source": [
    "Newfrm.loc[0][\"B\"]"
   ]
  },
  {
   "cell_type": "code",
   "execution_count": 46,
   "metadata": {},
   "outputs": [
    {
     "data": {
      "text/html": [
       "<div>\n",
       "<style scoped>\n",
       "    .dataframe tbody tr th:only-of-type {\n",
       "        vertical-align: middle;\n",
       "    }\n",
       "\n",
       "    .dataframe tbody tr th {\n",
       "        vertical-align: top;\n",
       "    }\n",
       "\n",
       "    .dataframe thead th {\n",
       "        text-align: right;\n",
       "    }\n",
       "</style>\n",
       "<table border=\"1\" class=\"dataframe\">\n",
       "  <thead>\n",
       "    <tr style=\"text-align: right;\">\n",
       "      <th></th>\n",
       "      <th>B</th>\n",
       "      <th>C</th>\n",
       "    </tr>\n",
       "  </thead>\n",
       "  <tbody>\n",
       "    <tr>\n",
       "      <th>0</th>\n",
       "      <td>120.125400</td>\n",
       "      <td>0.235238</td>\n",
       "    </tr>\n",
       "    <tr>\n",
       "      <th>2</th>\n",
       "      <td>0.452967</td>\n",
       "      <td>0.288050</td>\n",
       "    </tr>\n",
       "  </tbody>\n",
       "</table>\n",
       "</div>"
      ],
      "text/plain": [
       "            B         C\n",
       "0  120.125400  0.235238\n",
       "2    0.452967  0.288050"
      ]
     },
     "execution_count": 46,
     "metadata": {},
     "output_type": "execute_result"
    }
   ],
   "source": [
    " Newfrm.iloc[[0,2],[1,2]]   #find location by only integer comand valuesw"
   ]
  },
  {
   "cell_type": "code",
   "execution_count": 47,
   "metadata": {},
   "outputs": [],
   "source": [
    "Newfrm.reset_index(drop = True, inplace=True)   #permanantly set dataframe as 'copywrite'"
   ]
  },
  {
   "cell_type": "code",
   "execution_count": 48,
   "metadata": {},
   "outputs": [
    {
     "data": {
      "text/html": [
       "<div>\n",
       "<style scoped>\n",
       "    .dataframe tbody tr th:only-of-type {\n",
       "        vertical-align: middle;\n",
       "    }\n",
       "\n",
       "    .dataframe tbody tr th {\n",
       "        vertical-align: top;\n",
       "    }\n",
       "\n",
       "    .dataframe thead th {\n",
       "        text-align: right;\n",
       "    }\n",
       "</style>\n",
       "<table border=\"1\" class=\"dataframe\">\n",
       "  <thead>\n",
       "    <tr style=\"text-align: right;\">\n",
       "      <th></th>\n",
       "      <th>A</th>\n",
       "      <th>B</th>\n",
       "      <th>C</th>\n",
       "      <th>D</th>\n",
       "      <th>E</th>\n",
       "      <th>0</th>\n",
       "    </tr>\n",
       "  </thead>\n",
       "  <tbody>\n",
       "    <tr>\n",
       "      <th>0</th>\n",
       "      <td>0.136430</td>\n",
       "      <td>120.125400</td>\n",
       "      <td>0.235238</td>\n",
       "      <td>0.254297</td>\n",
       "      <td>0.928096</td>\n",
       "      <td>5120.0</td>\n",
       "    </tr>\n",
       "    <tr>\n",
       "      <th>1</th>\n",
       "      <td>0.334833</td>\n",
       "      <td>0.085284</td>\n",
       "      <td>0.923694</td>\n",
       "      <td>0.975214</td>\n",
       "      <td>0.267598</td>\n",
       "      <td>NaN</td>\n",
       "    </tr>\n",
       "    <tr>\n",
       "      <th>2</th>\n",
       "      <td>0.788227</td>\n",
       "      <td>0.452967</td>\n",
       "      <td>0.288050</td>\n",
       "      <td>0.260938</td>\n",
       "      <td>0.096581</td>\n",
       "      <td>NaN</td>\n",
       "    </tr>\n",
       "    <tr>\n",
       "      <th>3</th>\n",
       "      <td>0.579657</td>\n",
       "      <td>0.537426</td>\n",
       "      <td>0.647384</td>\n",
       "      <td>0.421176</td>\n",
       "      <td>0.875440</td>\n",
       "      <td>NaN</td>\n",
       "    </tr>\n",
       "    <tr>\n",
       "      <th>4</th>\n",
       "      <td>0.936031</td>\n",
       "      <td>0.803866</td>\n",
       "      <td>0.179141</td>\n",
       "      <td>0.641701</td>\n",
       "      <td>0.717267</td>\n",
       "      <td>NaN</td>\n",
       "    </tr>\n",
       "  </tbody>\n",
       "</table>\n",
       "</div>"
      ],
      "text/plain": [
       "          A           B         C         D         E       0\n",
       "0  0.136430  120.125400  0.235238  0.254297  0.928096  5120.0\n",
       "1  0.334833    0.085284  0.923694  0.975214  0.267598     NaN\n",
       "2  0.788227    0.452967  0.288050  0.260938  0.096581     NaN\n",
       "3  0.579657    0.537426  0.647384  0.421176  0.875440     NaN\n",
       "4  0.936031    0.803866  0.179141  0.641701  0.717267     NaN"
      ]
     },
     "execution_count": 48,
     "metadata": {},
     "output_type": "execute_result"
    }
   ],
   "source": [
    "Newfrm.head()"
   ]
  },
  {
   "cell_type": "code",
   "execution_count": 49,
   "metadata": {},
   "outputs": [],
   "source": [
    "Newfrm[\"B\"] = None"
   ]
  },
  {
   "cell_type": "code",
   "execution_count": 50,
   "metadata": {},
   "outputs": [
    {
     "data": {
      "text/plain": [
       "0    None\n",
       "1    None\n",
       "2    None\n",
       "3    None\n",
       "4    None\n",
       "Name: B, dtype: object"
      ]
     },
     "execution_count": 50,
     "metadata": {},
     "output_type": "execute_result"
    }
   ],
   "source": [
    "Newfrm.loc[:,\"B\"].head()"
   ]
  },
  {
   "cell_type": "code",
   "execution_count": 51,
   "metadata": {},
   "outputs": [
    {
     "data": {
      "text/plain": [
       "0    False\n",
       "1    False\n",
       "2    False\n",
       "3    False\n",
       "4    False\n",
       "Name: C, dtype: bool"
      ]
     },
     "execution_count": 51,
     "metadata": {},
     "output_type": "execute_result"
    }
   ],
   "source": [
    "Newfrm[\"C\"].isnull().head()"
   ]
  },
  {
   "cell_type": "code",
   "execution_count": 52,
   "metadata": {},
   "outputs": [],
   "source": [
    "Newfrm[\"B\"] = np.random.randn(20)"
   ]
  },
  {
   "cell_type": "code",
   "execution_count": 53,
   "metadata": {},
   "outputs": [
    {
     "data": {
      "text/html": [
       "<div>\n",
       "<style scoped>\n",
       "    .dataframe tbody tr th:only-of-type {\n",
       "        vertical-align: middle;\n",
       "    }\n",
       "\n",
       "    .dataframe tbody tr th {\n",
       "        vertical-align: top;\n",
       "    }\n",
       "\n",
       "    .dataframe thead th {\n",
       "        text-align: right;\n",
       "    }\n",
       "</style>\n",
       "<table border=\"1\" class=\"dataframe\">\n",
       "  <thead>\n",
       "    <tr style=\"text-align: right;\">\n",
       "      <th></th>\n",
       "      <th>A</th>\n",
       "      <th>B</th>\n",
       "      <th>C</th>\n",
       "      <th>D</th>\n",
       "      <th>E</th>\n",
       "      <th>0</th>\n",
       "    </tr>\n",
       "  </thead>\n",
       "  <tbody>\n",
       "    <tr>\n",
       "      <th>0</th>\n",
       "      <td>0.136430</td>\n",
       "      <td>-2.054943</td>\n",
       "      <td>0.235238</td>\n",
       "      <td>0.254297</td>\n",
       "      <td>0.928096</td>\n",
       "      <td>5120.0</td>\n",
       "    </tr>\n",
       "    <tr>\n",
       "      <th>1</th>\n",
       "      <td>0.334833</td>\n",
       "      <td>0.983687</td>\n",
       "      <td>0.923694</td>\n",
       "      <td>0.975214</td>\n",
       "      <td>0.267598</td>\n",
       "      <td>NaN</td>\n",
       "    </tr>\n",
       "    <tr>\n",
       "      <th>2</th>\n",
       "      <td>0.788227</td>\n",
       "      <td>-0.799111</td>\n",
       "      <td>0.288050</td>\n",
       "      <td>0.260938</td>\n",
       "      <td>0.096581</td>\n",
       "      <td>NaN</td>\n",
       "    </tr>\n",
       "    <tr>\n",
       "      <th>3</th>\n",
       "      <td>0.579657</td>\n",
       "      <td>-0.085933</td>\n",
       "      <td>0.647384</td>\n",
       "      <td>0.421176</td>\n",
       "      <td>0.875440</td>\n",
       "      <td>NaN</td>\n",
       "    </tr>\n",
       "    <tr>\n",
       "      <th>4</th>\n",
       "      <td>0.936031</td>\n",
       "      <td>-1.802906</td>\n",
       "      <td>0.179141</td>\n",
       "      <td>0.641701</td>\n",
       "      <td>0.717267</td>\n",
       "      <td>NaN</td>\n",
       "    </tr>\n",
       "  </tbody>\n",
       "</table>\n",
       "</div>"
      ],
      "text/plain": [
       "          A         B         C         D         E       0\n",
       "0  0.136430 -2.054943  0.235238  0.254297  0.928096  5120.0\n",
       "1  0.334833  0.983687  0.923694  0.975214  0.267598     NaN\n",
       "2  0.788227 -0.799111  0.288050  0.260938  0.096581     NaN\n",
       "3  0.579657 -0.085933  0.647384  0.421176  0.875440     NaN\n",
       "4  0.936031 -1.802906  0.179141  0.641701  0.717267     NaN"
      ]
     },
     "execution_count": 53,
     "metadata": {},
     "output_type": "execute_result"
    }
   ],
   "source": [
    "Newfrm.head()"
   ]
  },
  {
   "cell_type": "code",
   "execution_count": 54,
   "metadata": {},
   "outputs": [
    {
     "data": {
      "text/html": [
       "<div>\n",
       "<style scoped>\n",
       "    .dataframe tbody tr th:only-of-type {\n",
       "        vertical-align: middle;\n",
       "    }\n",
       "\n",
       "    .dataframe tbody tr th {\n",
       "        vertical-align: top;\n",
       "    }\n",
       "\n",
       "    .dataframe thead th {\n",
       "        text-align: right;\n",
       "    }\n",
       "</style>\n",
       "<table border=\"1\" class=\"dataframe\">\n",
       "  <thead>\n",
       "    <tr style=\"text-align: right;\">\n",
       "      <th></th>\n",
       "      <th>name</th>\n",
       "      <th>Marks</th>\n",
       "      <th>City</th>\n",
       "      <th>subject</th>\n",
       "    </tr>\n",
       "  </thead>\n",
       "  <tbody>\n",
       "    <tr>\n",
       "      <th>0</th>\n",
       "      <td>Dinesh</td>\n",
       "      <td>86</td>\n",
       "      <td>indore</td>\n",
       "      <td>B.com</td>\n",
       "    </tr>\n",
       "    <tr>\n",
       "      <th>1</th>\n",
       "      <td>Ravina</td>\n",
       "      <td>58</td>\n",
       "      <td>banglour</td>\n",
       "      <td>MSC</td>\n",
       "    </tr>\n",
       "    <tr>\n",
       "      <th>2</th>\n",
       "      <td>Raghav</td>\n",
       "      <td>67</td>\n",
       "      <td>mumbai</td>\n",
       "      <td>Engineering</td>\n",
       "    </tr>\n",
       "    <tr>\n",
       "      <th>3</th>\n",
       "      <td>Sanjay</td>\n",
       "      <td>45</td>\n",
       "      <td>delhi</td>\n",
       "      <td>MBA</td>\n",
       "    </tr>\n",
       "  </tbody>\n",
       "</table>\n",
       "</div>"
      ],
      "text/plain": [
       "     name  Marks      City      subject\n",
       "0  Dinesh     86    indore        B.com\n",
       "1  Ravina     58  banglour          MSC\n",
       "2  Raghav     67    mumbai  Engineering\n",
       "3  Sanjay     45     delhi          MBA"
      ]
     },
     "execution_count": 54,
     "metadata": {},
     "output_type": "execute_result"
    }
   ],
   "source": [
    "df"
   ]
  },
  {
   "cell_type": "code",
   "execution_count": 55,
   "metadata": {},
   "outputs": [],
   "source": [
    "df.iloc[:2,2] = None"
   ]
  },
  {
   "cell_type": "code",
   "execution_count": 56,
   "metadata": {},
   "outputs": [],
   "source": [
    "df.iloc[2,3] = None"
   ]
  },
  {
   "cell_type": "code",
   "execution_count": 57,
   "metadata": {},
   "outputs": [
    {
     "data": {
      "text/html": [
       "<div>\n",
       "<style scoped>\n",
       "    .dataframe tbody tr th:only-of-type {\n",
       "        vertical-align: middle;\n",
       "    }\n",
       "\n",
       "    .dataframe tbody tr th {\n",
       "        vertical-align: top;\n",
       "    }\n",
       "\n",
       "    .dataframe thead th {\n",
       "        text-align: right;\n",
       "    }\n",
       "</style>\n",
       "<table border=\"1\" class=\"dataframe\">\n",
       "  <thead>\n",
       "    <tr style=\"text-align: right;\">\n",
       "      <th></th>\n",
       "      <th>name</th>\n",
       "      <th>Marks</th>\n",
       "      <th>City</th>\n",
       "      <th>subject</th>\n",
       "    </tr>\n",
       "  </thead>\n",
       "  <tbody>\n",
       "    <tr>\n",
       "      <th>0</th>\n",
       "      <td>Dinesh</td>\n",
       "      <td>86</td>\n",
       "      <td>None</td>\n",
       "      <td>B.com</td>\n",
       "    </tr>\n",
       "    <tr>\n",
       "      <th>1</th>\n",
       "      <td>Ravina</td>\n",
       "      <td>58</td>\n",
       "      <td>None</td>\n",
       "      <td>MSC</td>\n",
       "    </tr>\n",
       "    <tr>\n",
       "      <th>2</th>\n",
       "      <td>Raghav</td>\n",
       "      <td>67</td>\n",
       "      <td>mumbai</td>\n",
       "      <td>None</td>\n",
       "    </tr>\n",
       "    <tr>\n",
       "      <th>3</th>\n",
       "      <td>Sanjay</td>\n",
       "      <td>45</td>\n",
       "      <td>delhi</td>\n",
       "      <td>MBA</td>\n",
       "    </tr>\n",
       "  </tbody>\n",
       "</table>\n",
       "</div>"
      ],
      "text/plain": [
       "     name  Marks    City subject\n",
       "0  Dinesh     86    None   B.com\n",
       "1  Ravina     58    None     MSC\n",
       "2  Raghav     67  mumbai    None\n",
       "3  Sanjay     45   delhi     MBA"
      ]
     },
     "execution_count": 57,
     "metadata": {},
     "output_type": "execute_result"
    }
   ],
   "source": [
    "df"
   ]
  },
  {
   "cell_type": "code",
   "execution_count": 58,
   "metadata": {},
   "outputs": [
    {
     "data": {
      "text/html": [
       "<div>\n",
       "<style scoped>\n",
       "    .dataframe tbody tr th:only-of-type {\n",
       "        vertical-align: middle;\n",
       "    }\n",
       "\n",
       "    .dataframe tbody tr th {\n",
       "        vertical-align: top;\n",
       "    }\n",
       "\n",
       "    .dataframe thead th {\n",
       "        text-align: right;\n",
       "    }\n",
       "</style>\n",
       "<table border=\"1\" class=\"dataframe\">\n",
       "  <thead>\n",
       "    <tr style=\"text-align: right;\">\n",
       "      <th></th>\n",
       "      <th>name</th>\n",
       "      <th>Marks</th>\n",
       "      <th>City</th>\n",
       "      <th>subject</th>\n",
       "    </tr>\n",
       "  </thead>\n",
       "  <tbody>\n",
       "    <tr>\n",
       "      <th>3</th>\n",
       "      <td>Sanjay</td>\n",
       "      <td>45</td>\n",
       "      <td>delhi</td>\n",
       "      <td>MBA</td>\n",
       "    </tr>\n",
       "  </tbody>\n",
       "</table>\n",
       "</div>"
      ],
      "text/plain": [
       "     name  Marks   City subject\n",
       "3  Sanjay     45  delhi     MBA"
      ]
     },
     "execution_count": 58,
     "metadata": {},
     "output_type": "execute_result"
    }
   ],
   "source": [
    "df.dropna()"
   ]
  },
  {
   "cell_type": "code",
   "execution_count": 59,
   "metadata": {},
   "outputs": [],
   "source": [
    "df.iloc[0,1] = 67"
   ]
  },
  {
   "cell_type": "code",
   "execution_count": 60,
   "metadata": {},
   "outputs": [
    {
     "data": {
      "text/html": [
       "<div>\n",
       "<style scoped>\n",
       "    .dataframe tbody tr th:only-of-type {\n",
       "        vertical-align: middle;\n",
       "    }\n",
       "\n",
       "    .dataframe tbody tr th {\n",
       "        vertical-align: top;\n",
       "    }\n",
       "\n",
       "    .dataframe thead th {\n",
       "        text-align: right;\n",
       "    }\n",
       "</style>\n",
       "<table border=\"1\" class=\"dataframe\">\n",
       "  <thead>\n",
       "    <tr style=\"text-align: right;\">\n",
       "      <th></th>\n",
       "      <th>name</th>\n",
       "      <th>Marks</th>\n",
       "      <th>City</th>\n",
       "      <th>subject</th>\n",
       "    </tr>\n",
       "  </thead>\n",
       "  <tbody>\n",
       "    <tr>\n",
       "      <th>0</th>\n",
       "      <td>Dinesh</td>\n",
       "      <td>67</td>\n",
       "      <td>None</td>\n",
       "      <td>B.com</td>\n",
       "    </tr>\n",
       "    <tr>\n",
       "      <th>1</th>\n",
       "      <td>Ravina</td>\n",
       "      <td>58</td>\n",
       "      <td>None</td>\n",
       "      <td>MSC</td>\n",
       "    </tr>\n",
       "    <tr>\n",
       "      <th>2</th>\n",
       "      <td>Raghav</td>\n",
       "      <td>67</td>\n",
       "      <td>mumbai</td>\n",
       "      <td>None</td>\n",
       "    </tr>\n",
       "    <tr>\n",
       "      <th>3</th>\n",
       "      <td>Sanjay</td>\n",
       "      <td>45</td>\n",
       "      <td>delhi</td>\n",
       "      <td>MBA</td>\n",
       "    </tr>\n",
       "  </tbody>\n",
       "</table>\n",
       "</div>"
      ],
      "text/plain": [
       "     name  Marks    City subject\n",
       "0  Dinesh     67    None   B.com\n",
       "1  Ravina     58    None     MSC\n",
       "2  Raghav     67  mumbai    None\n",
       "3  Sanjay     45   delhi     MBA"
      ]
     },
     "execution_count": 60,
     "metadata": {},
     "output_type": "execute_result"
    }
   ],
   "source": [
    "df"
   ]
  },
  {
   "cell_type": "code",
   "execution_count": 61,
   "metadata": {},
   "outputs": [
    {
     "data": {
      "text/html": [
       "<div>\n",
       "<style scoped>\n",
       "    .dataframe tbody tr th:only-of-type {\n",
       "        vertical-align: middle;\n",
       "    }\n",
       "\n",
       "    .dataframe tbody tr th {\n",
       "        vertical-align: top;\n",
       "    }\n",
       "\n",
       "    .dataframe thead th {\n",
       "        text-align: right;\n",
       "    }\n",
       "</style>\n",
       "<table border=\"1\" class=\"dataframe\">\n",
       "  <thead>\n",
       "    <tr style=\"text-align: right;\">\n",
       "      <th></th>\n",
       "      <th>name</th>\n",
       "      <th>Marks</th>\n",
       "      <th>City</th>\n",
       "      <th>subject</th>\n",
       "    </tr>\n",
       "  </thead>\n",
       "  <tbody>\n",
       "    <tr>\n",
       "      <th>1</th>\n",
       "      <td>Ravina</td>\n",
       "      <td>58</td>\n",
       "      <td>None</td>\n",
       "      <td>MSC</td>\n",
       "    </tr>\n",
       "    <tr>\n",
       "      <th>2</th>\n",
       "      <td>Raghav</td>\n",
       "      <td>67</td>\n",
       "      <td>mumbai</td>\n",
       "      <td>None</td>\n",
       "    </tr>\n",
       "    <tr>\n",
       "      <th>3</th>\n",
       "      <td>Sanjay</td>\n",
       "      <td>45</td>\n",
       "      <td>delhi</td>\n",
       "      <td>MBA</td>\n",
       "    </tr>\n",
       "  </tbody>\n",
       "</table>\n",
       "</div>"
      ],
      "text/plain": [
       "     name  Marks    City subject\n",
       "1  Ravina     58    None     MSC\n",
       "2  Raghav     67  mumbai    None\n",
       "3  Sanjay     45   delhi     MBA"
      ]
     },
     "execution_count": 61,
     "metadata": {},
     "output_type": "execute_result"
    }
   ],
   "source": [
    "df.drop_duplicates(subset=['City'], keep=\"last\")     #Use keep \"last\", \"first\", False"
   ]
  },
  {
   "cell_type": "code",
   "execution_count": 62,
   "metadata": {},
   "outputs": [
    {
     "name": "stdout",
     "output_type": "stream",
     "text": [
      "<class 'pandas.core.frame.DataFrame'>\n",
      "RangeIndex: 4 entries, 0 to 3\n",
      "Data columns (total 4 columns):\n",
      " #   Column   Non-Null Count  Dtype \n",
      "---  ------   --------------  ----- \n",
      " 0   name     4 non-null      object\n",
      " 1   Marks    4 non-null      int64 \n",
      " 2   City     2 non-null      object\n",
      " 3   subject  3 non-null      object\n",
      "dtypes: int64(1), object(3)\n",
      "memory usage: 256.0+ bytes\n"
     ]
    }
   ],
   "source": [
    "df.info()"
   ]
  },
  {
   "cell_type": "markdown",
   "metadata": {},
   "source": [
    "# Read and Write with Excel"
   ]
  },
  {
   "cell_type": "code",
   "execution_count": 63,
   "metadata": {},
   "outputs": [],
   "source": [
    " data = pd.read_excel('DataFram.xlsx', sheet_name='Sheet1')"
   ]
  },
  {
   "cell_type": "code",
   "execution_count": 64,
   "metadata": {},
   "outputs": [
    {
     "data": {
      "text/html": [
       "<div>\n",
       "<style scoped>\n",
       "    .dataframe tbody tr th:only-of-type {\n",
       "        vertical-align: middle;\n",
       "    }\n",
       "\n",
       "    .dataframe tbody tr th {\n",
       "        vertical-align: top;\n",
       "    }\n",
       "\n",
       "    .dataframe thead th {\n",
       "        text-align: right;\n",
       "    }\n",
       "</style>\n",
       "<table border=\"1\" class=\"dataframe\">\n",
       "  <thead>\n",
       "    <tr style=\"text-align: right;\">\n",
       "      <th></th>\n",
       "      <th>Train no.</th>\n",
       "      <th>speed</th>\n",
       "      <th>City</th>\n",
       "    </tr>\n",
       "  </thead>\n",
       "  <tbody>\n",
       "    <tr>\n",
       "      <th>0</th>\n",
       "      <td>55415</td>\n",
       "      <td>96</td>\n",
       "      <td>mumbai</td>\n",
       "    </tr>\n",
       "    <tr>\n",
       "      <th>1</th>\n",
       "      <td>52365</td>\n",
       "      <td>85</td>\n",
       "      <td>Delhi</td>\n",
       "    </tr>\n",
       "    <tr>\n",
       "      <th>2</th>\n",
       "      <td>98569</td>\n",
       "      <td>98</td>\n",
       "      <td>Bangluru</td>\n",
       "    </tr>\n",
       "    <tr>\n",
       "      <th>3</th>\n",
       "      <td>874587</td>\n",
       "      <td>110</td>\n",
       "      <td>Pune</td>\n",
       "    </tr>\n",
       "  </tbody>\n",
       "</table>\n",
       "</div>"
      ],
      "text/plain": [
       "   Train no.  speed      City\n",
       "0      55415     96    mumbai\n",
       "1      52365     85     Delhi\n",
       "2      98569     98  Bangluru\n",
       "3     874587    110      Pune"
      ]
     },
     "execution_count": 64,
     "metadata": {},
     "output_type": "execute_result"
    }
   ],
   "source": [
    "data"
   ]
  },
  {
   "cell_type": "code",
   "execution_count": 65,
   "metadata": {},
   "outputs": [],
   "source": [
    "data.iloc[0,1] = 120"
   ]
  },
  {
   "cell_type": "code",
   "execution_count": 66,
   "metadata": {},
   "outputs": [
    {
     "data": {
      "text/html": [
       "<div>\n",
       "<style scoped>\n",
       "    .dataframe tbody tr th:only-of-type {\n",
       "        vertical-align: middle;\n",
       "    }\n",
       "\n",
       "    .dataframe tbody tr th {\n",
       "        vertical-align: top;\n",
       "    }\n",
       "\n",
       "    .dataframe thead th {\n",
       "        text-align: right;\n",
       "    }\n",
       "</style>\n",
       "<table border=\"1\" class=\"dataframe\">\n",
       "  <thead>\n",
       "    <tr style=\"text-align: right;\">\n",
       "      <th></th>\n",
       "      <th>Train no.</th>\n",
       "      <th>speed</th>\n",
       "      <th>City</th>\n",
       "    </tr>\n",
       "  </thead>\n",
       "  <tbody>\n",
       "    <tr>\n",
       "      <th>0</th>\n",
       "      <td>55415</td>\n",
       "      <td>120</td>\n",
       "      <td>mumbai</td>\n",
       "    </tr>\n",
       "    <tr>\n",
       "      <th>1</th>\n",
       "      <td>52365</td>\n",
       "      <td>85</td>\n",
       "      <td>Delhi</td>\n",
       "    </tr>\n",
       "    <tr>\n",
       "      <th>2</th>\n",
       "      <td>98569</td>\n",
       "      <td>98</td>\n",
       "      <td>Bangluru</td>\n",
       "    </tr>\n",
       "    <tr>\n",
       "      <th>3</th>\n",
       "      <td>874587</td>\n",
       "      <td>110</td>\n",
       "      <td>Pune</td>\n",
       "    </tr>\n",
       "  </tbody>\n",
       "</table>\n",
       "</div>"
      ],
      "text/plain": [
       "   Train no.  speed      City\n",
       "0      55415    120    mumbai\n",
       "1      52365     85     Delhi\n",
       "2      98569     98  Bangluru\n",
       "3     874587    110      Pune"
      ]
     },
     "execution_count": 66,
     "metadata": {},
     "output_type": "execute_result"
    }
   ],
   "source": [
    "data"
   ]
  },
  {
   "cell_type": "code",
   "execution_count": 67,
   "metadata": {},
   "outputs": [],
   "source": [
    "data.to_excel('My_Data.xlsx', sheet_name='Sheet2')"
   ]
  },
  {
   "cell_type": "code",
   "execution_count": 68,
   "metadata": {},
   "outputs": [
    {
     "data": {
      "text/html": [
       "<div>\n",
       "<style scoped>\n",
       "    .dataframe tbody tr th:only-of-type {\n",
       "        vertical-align: middle;\n",
       "    }\n",
       "\n",
       "    .dataframe tbody tr th {\n",
       "        vertical-align: top;\n",
       "    }\n",
       "\n",
       "    .dataframe thead th {\n",
       "        text-align: right;\n",
       "    }\n",
       "</style>\n",
       "<table border=\"1\" class=\"dataframe\">\n",
       "  <thead>\n",
       "    <tr style=\"text-align: right;\">\n",
       "      <th></th>\n",
       "      <th>Train no.</th>\n",
       "      <th>speed</th>\n",
       "      <th>City</th>\n",
       "    </tr>\n",
       "  </thead>\n",
       "  <tbody>\n",
       "    <tr>\n",
       "      <th>0</th>\n",
       "      <td>55415</td>\n",
       "      <td>120</td>\n",
       "      <td>mumbai</td>\n",
       "    </tr>\n",
       "    <tr>\n",
       "      <th>1</th>\n",
       "      <td>52365</td>\n",
       "      <td>85</td>\n",
       "      <td>Delhi</td>\n",
       "    </tr>\n",
       "    <tr>\n",
       "      <th>2</th>\n",
       "      <td>98569</td>\n",
       "      <td>98</td>\n",
       "      <td>Bangluru</td>\n",
       "    </tr>\n",
       "    <tr>\n",
       "      <th>3</th>\n",
       "      <td>874587</td>\n",
       "      <td>110</td>\n",
       "      <td>Pune</td>\n",
       "    </tr>\n",
       "  </tbody>\n",
       "</table>\n",
       "</div>"
      ],
      "text/plain": [
       "   Train no.  speed      City\n",
       "0      55415    120    mumbai\n",
       "1      52365     85     Delhi\n",
       "2      98569     98  Bangluru\n",
       "3     874587    110      Pune"
      ]
     },
     "execution_count": 68,
     "metadata": {},
     "output_type": "execute_result"
    }
   ],
   "source": [
    "data"
   ]
  },
  {
   "cell_type": "code",
   "execution_count": null,
   "metadata": {},
   "outputs": [],
   "source": []
  }
 ],
 "metadata": {
  "kernelspec": {
   "display_name": "Python 3",
   "language": "python",
   "name": "python3"
  },
  "language_info": {
   "codemirror_mode": {
    "name": "ipython",
    "version": 3
   },
   "file_extension": ".py",
   "mimetype": "text/x-python",
   "name": "python",
   "nbconvert_exporter": "python",
   "pygments_lexer": "ipython3",
   "version": "3.9.4"
  }
 },
 "nbformat": 4,
 "nbformat_minor": 4
}
