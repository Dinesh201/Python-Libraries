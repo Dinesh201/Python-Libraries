{
 "cells": [
  {
   "cell_type": "markdown",
   "id": "b46aca1d",
   "metadata": {},
   "source": [
    "# welcome to numpy tutorial"
   ]
  },
  {
   "cell_type": "code",
   "execution_count": 1,
   "id": "341258bc",
   "metadata": {},
   "outputs": [],
   "source": [
    "import numpy as np"
   ]
  },
  {
   "cell_type": "code",
   "execution_count": 8,
   "id": "c5b7eb78",
   "metadata": {},
   "outputs": [],
   "source": [
    "# l1 = [1,2,3,44,5,6]\n",
    "\n",
    "n1 = np.array([[1,2,3,44,5,6]], np.int8)          #int8, 32, 64 as per memory allocation"
   ]
  },
  {
   "cell_type": "code",
   "execution_count": 9,
   "id": "38bbb498",
   "metadata": {},
   "outputs": [],
   "source": [
    "n1[0,2] = 45"
   ]
  },
  {
   "cell_type": "code",
   "execution_count": 10,
   "id": "b42fd064",
   "metadata": {},
   "outputs": [
    {
     "data": {
      "text/plain": [
       "array([[ 1,  2, 45, 44,  5,  6]], dtype=int8)"
      ]
     },
     "execution_count": 10,
     "metadata": {},
     "output_type": "execute_result"
    }
   ],
   "source": [
    "n1"
   ]
  },
  {
   "cell_type": "code",
   "execution_count": 236,
   "id": "9a5b8369",
   "metadata": {},
   "outputs": [
    {
     "data": {
      "text/plain": [
       "1"
      ]
     },
     "execution_count": 236,
     "metadata": {},
     "output_type": "execute_result"
    }
   ],
   "source": [
    "n1.min()"
   ]
  },
  {
   "cell_type": "code",
   "execution_count": 237,
   "id": "a581cfba",
   "metadata": {},
   "outputs": [
    {
     "data": {
      "text/plain": [
       "45"
      ]
     },
     "execution_count": 237,
     "metadata": {},
     "output_type": "execute_result"
    }
   ],
   "source": [
    "n1.max()"
   ]
  },
  {
   "cell_type": "code",
   "execution_count": 238,
   "id": "083e6c75",
   "metadata": {},
   "outputs": [
    {
     "data": {
      "text/plain": [
       "103"
      ]
     },
     "execution_count": 238,
     "metadata": {},
     "output_type": "execute_result"
    }
   ],
   "source": [
    "n1.sum()"
   ]
  },
  {
   "cell_type": "code",
   "execution_count": 4,
   "id": "ddc1d083",
   "metadata": {},
   "outputs": [
    {
     "data": {
      "text/plain": [
       "array([[ 1,  2, 45, 44,  5,  6]], dtype=int8)"
      ]
     },
     "execution_count": 4,
     "metadata": {},
     "output_type": "execute_result"
    }
   ],
   "source": [
    "n1"
   ]
  },
  {
   "cell_type": "code",
   "execution_count": 5,
   "id": "3da2731d",
   "metadata": {},
   "outputs": [
    {
     "data": {
      "text/plain": [
       "(1, 6)"
      ]
     },
     "execution_count": 5,
     "metadata": {},
     "output_type": "execute_result"
    }
   ],
   "source": [
    "n1.shape"
   ]
  },
  {
   "cell_type": "code",
   "execution_count": 6,
   "id": "a7bacd8e",
   "metadata": {},
   "outputs": [
    {
     "data": {
      "text/plain": [
       "dtype('int8')"
      ]
     },
     "execution_count": 6,
     "metadata": {},
     "output_type": "execute_result"
    }
   ],
   "source": [
    "n1.dtype"
   ]
  },
  {
   "cell_type": "code",
   "execution_count": 13,
   "id": "7785f816",
   "metadata": {},
   "outputs": [
    {
     "name": "stdout",
     "output_type": "stream",
     "text": [
      "[[ 1  2  3  4  5  6]\n",
      " [ 7  8  9 10 11 12]]\n"
     ]
    }
   ],
   "source": [
    "n2 = np.array([[1,2,3,4,5,6],[7,8,9,10,11,12]])\n",
    "\n",
    "print(n2)"
   ]
  },
  {
   "cell_type": "code",
   "execution_count": 8,
   "id": "9f25cd2a",
   "metadata": {},
   "outputs": [],
   "source": [
    "zeros = np.zeros((2,5))"
   ]
  },
  {
   "cell_type": "code",
   "execution_count": 9,
   "id": "a5b3e394",
   "metadata": {},
   "outputs": [
    {
     "data": {
      "text/plain": [
       "array([[0., 0., 0., 0., 0.],\n",
       "       [0., 0., 0., 0., 0.]])"
      ]
     },
     "execution_count": 9,
     "metadata": {},
     "output_type": "execute_result"
    }
   ],
   "source": [
    "zeros"
   ]
  },
  {
   "cell_type": "code",
   "execution_count": 23,
   "id": "ae8e5cbc",
   "metadata": {},
   "outputs": [
    {
     "data": {
      "text/plain": [
       "dtype('float64')"
      ]
     },
     "execution_count": 23,
     "metadata": {},
     "output_type": "execute_result"
    }
   ],
   "source": [
    "zeros.dtype"
   ]
  },
  {
   "cell_type": "code",
   "execution_count": 11,
   "id": "3409b911",
   "metadata": {},
   "outputs": [],
   "source": [
    " arg = np.arange(20,100,5)"
   ]
  },
  {
   "cell_type": "code",
   "execution_count": 24,
   "id": "cf251e69",
   "metadata": {},
   "outputs": [
    {
     "data": {
      "text/plain": [
       "array([20, 25, 30, 35, 40, 45, 50, 55, 60, 65, 70, 75, 80, 85, 90, 95])"
      ]
     },
     "execution_count": 24,
     "metadata": {},
     "output_type": "execute_result"
    }
   ],
   "source": [
    "arg"
   ]
  },
  {
   "cell_type": "code",
   "execution_count": 25,
   "id": "90d58665",
   "metadata": {},
   "outputs": [
    {
     "data": {
      "text/plain": [
       "-inf"
      ]
     },
     "execution_count": 25,
     "metadata": {},
     "output_type": "execute_result"
    }
   ],
   "source": [
    "np.NINF"
   ]
  },
  {
   "cell_type": "code",
   "execution_count": 28,
   "id": "8049bcfc",
   "metadata": {},
   "outputs": [],
   "source": [
    "lspace = np.linspace(1,4,8)"
   ]
  },
  {
   "cell_type": "code",
   "execution_count": 29,
   "id": "0a79f467",
   "metadata": {},
   "outputs": [
    {
     "data": {
      "text/plain": [
       "array([1.        , 1.42857143, 1.85714286, 2.28571429, 2.71428571,\n",
       "       3.14285714, 3.57142857, 4.        ])"
      ]
     },
     "execution_count": 29,
     "metadata": {},
     "output_type": "execute_result"
    }
   ],
   "source": [
    "lspace"
   ]
  },
  {
   "cell_type": "code",
   "execution_count": 56,
   "id": "5326e377",
   "metadata": {},
   "outputs": [],
   "source": [
    "emp = np.empty((2,6))"
   ]
  },
  {
   "cell_type": "code",
   "execution_count": 61,
   "id": "d249c536",
   "metadata": {},
   "outputs": [
    {
     "data": {
      "text/plain": [
       "array([[1.10447826e-311, 3.16202013e-322, 0.00000000e+000,\n",
       "        0.00000000e+000, 0.00000000e+000, 9.96357572e-043],\n",
       "       [3.37995830e-057, 2.25161530e+184, 4.31569518e-061,\n",
       "        2.78859930e+179, 2.19217284e-076, 1.68812777e+160]])"
      ]
     },
     "execution_count": 61,
     "metadata": {},
     "output_type": "execute_result"
    }
   ],
   "source": [
    "emp"
   ]
  },
  {
   "cell_type": "code",
   "execution_count": 75,
   "id": "cf8bde3a",
   "metadata": {},
   "outputs": [],
   "source": [
    "emp_like = np.empty_like(lspace)"
   ]
  },
  {
   "cell_type": "code",
   "execution_count": 76,
   "id": "368ca406",
   "metadata": {},
   "outputs": [
    {
     "data": {
      "text/plain": [
       "array([1.        , 1.42857143, 1.85714286, 2.28571429, 2.71428571,\n",
       "       3.14285714, 3.57142857, 4.        ])"
      ]
     },
     "execution_count": 76,
     "metadata": {},
     "output_type": "execute_result"
    }
   ],
   "source": [
    "emp_like"
   ]
  },
  {
   "cell_type": "code",
   "execution_count": 83,
   "id": "25a9ea2b",
   "metadata": {},
   "outputs": [],
   "source": [
    "ide = np.identity(4)"
   ]
  },
  {
   "cell_type": "code",
   "execution_count": 84,
   "id": "f9fd0c46",
   "metadata": {},
   "outputs": [
    {
     "data": {
      "text/plain": [
       "array([[1., 0., 0., 0.],\n",
       "       [0., 1., 0., 0.],\n",
       "       [0., 0., 1., 0.],\n",
       "       [0., 0., 0., 1.]])"
      ]
     },
     "execution_count": 84,
     "metadata": {},
     "output_type": "execute_result"
    }
   ],
   "source": [
    "ide"
   ]
  },
  {
   "cell_type": "code",
   "execution_count": 102,
   "id": "2ddb1cd9",
   "metadata": {},
   "outputs": [
    {
     "data": {
      "text/plain": [
       "array([ 0,  1,  2,  3,  4,  5,  6,  7,  8,  9, 10, 11, 12, 13, 14, 15, 16,\n",
       "       17, 18, 19, 20, 21, 22, 23, 24, 25, 26, 27, 28, 29, 30, 31, 32, 33,\n",
       "       34, 35, 36, 37, 38, 39, 40, 41, 42, 43, 44, 45, 46, 47, 48, 49, 50,\n",
       "       51, 52, 53, 54, 55, 56, 57, 58, 59, 60, 61, 62, 63, 64, 65, 66, 67,\n",
       "       68, 69, 70, 71, 72, 73, 74, 75, 76, 77, 78, 79, 80, 81, 82, 83, 84,\n",
       "       85, 86, 87, 88, 89, 90, 91, 92, 93, 94, 95, 96, 97, 98, 99])"
      ]
     },
     "execution_count": 102,
     "metadata": {},
     "output_type": "execute_result"
    }
   ],
   "source": [
    "arr = np.arange(100)\n",
    "\n",
    "arr"
   ]
  },
  {
   "cell_type": "code",
   "execution_count": 111,
   "id": "7081b71c",
   "metadata": {},
   "outputs": [],
   "source": [
    "arre = arr.reshape(10,10)   #can enter 10,10.  5,20. 4,25"
   ]
  },
  {
   "cell_type": "code",
   "execution_count": 112,
   "id": "4c54a1d9",
   "metadata": {},
   "outputs": [
    {
     "data": {
      "text/plain": [
       "array([[ 0,  1,  2,  3,  4,  5,  6,  7,  8,  9],\n",
       "       [10, 11, 12, 13, 14, 15, 16, 17, 18, 19],\n",
       "       [20, 21, 22, 23, 24, 25, 26, 27, 28, 29],\n",
       "       [30, 31, 32, 33, 34, 35, 36, 37, 38, 39],\n",
       "       [40, 41, 42, 43, 44, 45, 46, 47, 48, 49],\n",
       "       [50, 51, 52, 53, 54, 55, 56, 57, 58, 59],\n",
       "       [60, 61, 62, 63, 64, 65, 66, 67, 68, 69],\n",
       "       [70, 71, 72, 73, 74, 75, 76, 77, 78, 79],\n",
       "       [80, 81, 82, 83, 84, 85, 86, 87, 88, 89],\n",
       "       [90, 91, 92, 93, 94, 95, 96, 97, 98, 99]])"
      ]
     },
     "execution_count": 112,
     "metadata": {},
     "output_type": "execute_result"
    }
   ],
   "source": [
    "arre"
   ]
  },
  {
   "cell_type": "code",
   "execution_count": 116,
   "id": "6818eff2",
   "metadata": {},
   "outputs": [],
   "source": [
    "rvl = arr.ravel()   #convert into previous shape "
   ]
  },
  {
   "cell_type": "code",
   "execution_count": 117,
   "id": "9f25d4aa",
   "metadata": {},
   "outputs": [
    {
     "data": {
      "text/plain": [
       "array([ 0,  1,  2,  3,  4,  5,  6,  7,  8,  9, 10, 11, 12, 13, 14, 15, 16,\n",
       "       17, 18, 19, 20, 21, 22, 23, 24, 25, 26, 27, 28, 29, 30, 31, 32, 33,\n",
       "       34, 35, 36, 37, 38, 39, 40, 41, 42, 43, 44, 45, 46, 47, 48, 49, 50,\n",
       "       51, 52, 53, 54, 55, 56, 57, 58, 59, 60, 61, 62, 63, 64, 65, 66, 67,\n",
       "       68, 69, 70, 71, 72, 73, 74, 75, 76, 77, 78, 79, 80, 81, 82, 83, 84,\n",
       "       85, 86, 87, 88, 89, 90, 91, 92, 93, 94, 95, 96, 97, 98, 99])"
      ]
     },
     "execution_count": 117,
     "metadata": {},
     "output_type": "execute_result"
    }
   ],
   "source": [
    "rvl"
   ]
  },
  {
   "cell_type": "code",
   "execution_count": 118,
   "id": "9247e141",
   "metadata": {},
   "outputs": [],
   "source": [
    " x = [[1,4,7],[2,5,8],[3,6,9]]"
   ]
  },
  {
   "cell_type": "code",
   "execution_count": 120,
   "id": "bda6e525",
   "metadata": {},
   "outputs": [],
   "source": [
    "ar = np.array(x)"
   ]
  },
  {
   "cell_type": "code",
   "execution_count": 131,
   "id": "219cff5b",
   "metadata": {},
   "outputs": [
    {
     "data": {
      "text/plain": [
       "array([[1, 4, 7],\n",
       "       [2, 5, 8],\n",
       "       [3, 6, 9]])"
      ]
     },
     "execution_count": 131,
     "metadata": {},
     "output_type": "execute_result"
    }
   ],
   "source": [
    "ar"
   ]
  },
  {
   "cell_type": "code",
   "execution_count": 122,
   "id": "a2754bd7",
   "metadata": {},
   "outputs": [],
   "source": [
    "ax = ar.sum(axis = 0)       #axis 0 = row side axis"
   ]
  },
  {
   "cell_type": "code",
   "execution_count": 123,
   "id": "03f978d2",
   "metadata": {},
   "outputs": [
    {
     "data": {
      "text/plain": [
       "array([ 6, 15, 24])"
      ]
     },
     "execution_count": 123,
     "metadata": {},
     "output_type": "execute_result"
    }
   ],
   "source": [
    "ax"
   ]
  },
  {
   "cell_type": "code",
   "execution_count": 124,
   "id": "2023cd6b",
   "metadata": {},
   "outputs": [],
   "source": [
    "ax1 = ar.sum(axis = 1)       #axis 1 = colum side axis"
   ]
  },
  {
   "cell_type": "code",
   "execution_count": 125,
   "id": "7a32b60c",
   "metadata": {},
   "outputs": [
    {
     "data": {
      "text/plain": [
       "array([12, 15, 18])"
      ]
     },
     "execution_count": 125,
     "metadata": {},
     "output_type": "execute_result"
    }
   ],
   "source": [
    "ax1"
   ]
  },
  {
   "cell_type": "code",
   "execution_count": 128,
   "id": "42deaed5",
   "metadata": {},
   "outputs": [
    {
     "data": {
      "text/plain": [
       "array([[1, 2, 3],\n",
       "       [4, 5, 6],\n",
       "       [7, 8, 9]])"
      ]
     },
     "execution_count": 128,
     "metadata": {},
     "output_type": "execute_result"
    }
   ],
   "source": [
    "art = ar.T         #'transpose' ,convert row to colum\n",
    "\n",
    "art"
   ]
  },
  {
   "cell_type": "code",
   "execution_count": 134,
   "id": "ffffd6b2",
   "metadata": {},
   "outputs": [
    {
     "data": {
      "text/plain": [
       "<numpy.flatiter at 0x2087ddbbde0>"
      ]
     },
     "execution_count": 134,
     "metadata": {},
     "output_type": "execute_result"
    }
   ],
   "source": [
    "art.flat    # for itration use"
   ]
  },
  {
   "cell_type": "code",
   "execution_count": 135,
   "id": "97e2751b",
   "metadata": {},
   "outputs": [
    {
     "name": "stdout",
     "output_type": "stream",
     "text": [
      "1\n",
      "2\n",
      "3\n",
      "4\n",
      "5\n",
      "6\n",
      "7\n",
      "8\n",
      "9\n"
     ]
    }
   ],
   "source": [
    "for i in art.flat:\n",
    "    print(i)"
   ]
  },
  {
   "cell_type": "code",
   "execution_count": 136,
   "id": "4dbe43ab",
   "metadata": {},
   "outputs": [
    {
     "data": {
      "text/plain": [
       "2"
      ]
     },
     "execution_count": 136,
     "metadata": {},
     "output_type": "execute_result"
    }
   ],
   "source": [
    "art.ndim   #insert number of dimantions"
   ]
  },
  {
   "cell_type": "code",
   "execution_count": 137,
   "id": "fd877d65",
   "metadata": {},
   "outputs": [
    {
     "data": {
      "text/plain": [
       "(3, 3)"
      ]
     },
     "execution_count": 137,
     "metadata": {},
     "output_type": "execute_result"
    }
   ],
   "source": [
    "art.shape"
   ]
  },
  {
   "cell_type": "code",
   "execution_count": 138,
   "id": "73215b9a",
   "metadata": {},
   "outputs": [
    {
     "data": {
      "text/plain": [
       "9"
      ]
     },
     "execution_count": 138,
     "metadata": {},
     "output_type": "execute_result"
    }
   ],
   "source": [
    "art.size"
   ]
  },
  {
   "cell_type": "code",
   "execution_count": 140,
   "id": "6468818c",
   "metadata": {},
   "outputs": [
    {
     "data": {
      "text/plain": [
       "36"
      ]
     },
     "execution_count": 140,
     "metadata": {},
     "output_type": "execute_result"
    }
   ],
   "source": [
    "art.nbytes  # number of bytes use"
   ]
  },
  {
   "cell_type": "code",
   "execution_count": 163,
   "id": "c7ea4029",
   "metadata": {},
   "outputs": [],
   "source": [
    "one = np.array([2,3,5,10,1,45,82,10,2,6,8])"
   ]
  },
  {
   "cell_type": "code",
   "execution_count": 164,
   "id": "78b6c556",
   "metadata": {},
   "outputs": [
    {
     "data": {
      "text/plain": [
       "6"
      ]
     },
     "execution_count": 164,
     "metadata": {},
     "output_type": "execute_result"
    }
   ],
   "source": [
    "one.argmax()   #find no.of index which is maximum value"
   ]
  },
  {
   "cell_type": "code",
   "execution_count": 165,
   "id": "13f99406",
   "metadata": {},
   "outputs": [
    {
     "data": {
      "text/plain": [
       "4"
      ]
     },
     "execution_count": 165,
     "metadata": {},
     "output_type": "execute_result"
    }
   ],
   "source": [
    "one.argmin()"
   ]
  },
  {
   "cell_type": "code",
   "execution_count": 166,
   "id": "ca4620dd",
   "metadata": {},
   "outputs": [
    {
     "data": {
      "text/plain": [
       "array([ 4,  0,  8,  1,  2,  9, 10,  3,  7,  5,  6], dtype=int64)"
      ]
     },
     "execution_count": 166,
     "metadata": {},
     "output_type": "execute_result"
    }
   ],
   "source": [
    "one.argsort()    # in assanding order find values"
   ]
  },
  {
   "cell_type": "code",
   "execution_count": 167,
   "id": "cd199c92",
   "metadata": {},
   "outputs": [
    {
     "data": {
      "text/plain": [
       "dtype('int32')"
      ]
     },
     "execution_count": 167,
     "metadata": {},
     "output_type": "execute_result"
    }
   ],
   "source": [
    "one.dtype"
   ]
  },
  {
   "cell_type": "code",
   "execution_count": 196,
   "id": "bfbd36e3",
   "metadata": {},
   "outputs": [
    {
     "data": {
      "text/plain": [
       "array([[5, 9, 1],\n",
       "       [4, 2, 9],\n",
       "       [8, 9, 6],\n",
       "       [9, 6, 7]])"
      ]
     },
     "execution_count": 196,
     "metadata": {},
     "output_type": "execute_result"
    }
   ],
   "source": [
    "mat = np.array([[5,9,1],[4,2,9],[8,9,6],[9,6,7]])\n",
    "\n",
    "mat"
   ]
  },
  {
   "cell_type": "code",
   "execution_count": 197,
   "id": "39094c6b",
   "metadata": {},
   "outputs": [
    {
     "data": {
      "text/plain": [
       "1"
      ]
     },
     "execution_count": 197,
     "metadata": {},
     "output_type": "execute_result"
    }
   ],
   "source": [
    "mat.argmax()   #first change in one array and find index which is given argumant"
   ]
  },
  {
   "cell_type": "code",
   "execution_count": 198,
   "id": "8197ac33",
   "metadata": {},
   "outputs": [
    {
     "data": {
      "text/plain": [
       "2"
      ]
     },
     "execution_count": 198,
     "metadata": {},
     "output_type": "execute_result"
    }
   ],
   "source": [
    "mat.argmin()"
   ]
  },
  {
   "cell_type": "code",
   "execution_count": 199,
   "id": "7ddba885",
   "metadata": {},
   "outputs": [
    {
     "data": {
      "text/plain": [
       "array([[2, 0, 1],\n",
       "       [1, 0, 2],\n",
       "       [2, 0, 1],\n",
       "       [1, 2, 0]], dtype=int64)"
      ]
     },
     "execution_count": 199,
     "metadata": {},
     "output_type": "execute_result"
    }
   ],
   "source": [
    "mat.argsort()"
   ]
  },
  {
   "cell_type": "code",
   "execution_count": 200,
   "id": "81f7d041",
   "metadata": {},
   "outputs": [
    {
     "data": {
      "text/plain": [
       "array([3, 0, 1], dtype=int64)"
      ]
     },
     "execution_count": 200,
     "metadata": {},
     "output_type": "execute_result"
    }
   ],
   "source": [
    "mat.argmax(axis = 0)"
   ]
  },
  {
   "cell_type": "code",
   "execution_count": 201,
   "id": "f9f612c6",
   "metadata": {},
   "outputs": [
    {
     "data": {
      "text/plain": [
       "array([1, 2, 1, 0], dtype=int64)"
      ]
     },
     "execution_count": 201,
     "metadata": {},
     "output_type": "execute_result"
    }
   ],
   "source": [
    "mat.argmax(axis = 1)"
   ]
  },
  {
   "cell_type": "code",
   "execution_count": 203,
   "id": "48f81313",
   "metadata": {},
   "outputs": [
    {
     "data": {
      "text/plain": [
       "array([[1, 1, 0],\n",
       "       [0, 3, 2],\n",
       "       [2, 0, 3],\n",
       "       [3, 2, 1]], dtype=int64)"
      ]
     },
     "execution_count": 203,
     "metadata": {},
     "output_type": "execute_result"
    }
   ],
   "source": [
    "mat.argsort(axis = 0)"
   ]
  },
  {
   "cell_type": "code",
   "execution_count": 202,
   "id": "20e89284",
   "metadata": {},
   "outputs": [
    {
     "data": {
      "text/plain": [
       "array([[5, 9, 1],\n",
       "       [4, 2, 9],\n",
       "       [8, 9, 6],\n",
       "       [9, 6, 7]])"
      ]
     },
     "execution_count": 202,
     "metadata": {},
     "output_type": "execute_result"
    }
   ],
   "source": [
    "mat"
   ]
  },
  {
   "cell_type": "code",
   "execution_count": 207,
   "id": "e2d358b9",
   "metadata": {},
   "outputs": [
    {
     "data": {
      "text/plain": [
       "array([5, 9, 1, 4, 2, 9, 8, 9, 6, 9, 6, 7])"
      ]
     },
     "execution_count": 207,
     "metadata": {},
     "output_type": "execute_result"
    }
   ],
   "source": [
    "mat.ravel()"
   ]
  },
  {
   "cell_type": "code",
   "execution_count": 215,
   "id": "232d76de",
   "metadata": {},
   "outputs": [
    {
     "name": "stdout",
     "output_type": "stream",
     "text": [
      "(4, 3)\n",
      "12\n",
      "int32\n"
     ]
    }
   ],
   "source": [
    "print(mat.shape)\n",
    "print(mat.size)\n",
    "print(mat.dtype)"
   ]
  },
  {
   "cell_type": "code",
   "execution_count": 210,
   "id": "cdce11b6",
   "metadata": {},
   "outputs": [
    {
     "data": {
      "text/plain": [
       "array([[5, 9, 1, 4, 2, 9],\n",
       "       [8, 9, 6, 9, 6, 7]])"
      ]
     },
     "execution_count": 210,
     "metadata": {},
     "output_type": "execute_result"
    }
   ],
   "source": [
    "mat.reshape(2,6)"
   ]
  },
  {
   "cell_type": "code",
   "execution_count": 218,
   "id": "2d787fc3",
   "metadata": {},
   "outputs": [],
   "source": [
    "mat2 = np.array([[5,0,1],[6,4,2],[1,2,3]])"
   ]
  },
  {
   "cell_type": "code",
   "execution_count": 219,
   "id": "c9573856",
   "metadata": {},
   "outputs": [],
   "source": [
    "zat = np.array([[5,2,1],[4,2,1],[3,4,6]])"
   ]
  },
  {
   "cell_type": "code",
   "execution_count": 221,
   "id": "e67e68a5",
   "metadata": {},
   "outputs": [
    {
     "data": {
      "text/plain": [
       "array([[10,  2,  2],\n",
       "       [10,  6,  3],\n",
       "       [ 4,  6,  9]])"
      ]
     },
     "execution_count": 221,
     "metadata": {},
     "output_type": "execute_result"
    }
   ],
   "source": [
    "mat2+zat"
   ]
  },
  {
   "cell_type": "code",
   "execution_count": 222,
   "id": "01469b36",
   "metadata": {},
   "outputs": [
    {
     "data": {
      "text/plain": [
       "array([[25,  0,  1],\n",
       "       [24,  8,  2],\n",
       "       [ 3,  8, 18]])"
      ]
     },
     "execution_count": 222,
     "metadata": {},
     "output_type": "execute_result"
    }
   ],
   "source": [
    "mat2*zat"
   ]
  },
  {
   "cell_type": "code",
   "execution_count": 223,
   "id": "314cbb89",
   "metadata": {},
   "outputs": [
    {
     "data": {
      "text/plain": [
       "array([[ 0, -2,  0],\n",
       "       [ 2,  2,  1],\n",
       "       [-2, -2, -3]])"
      ]
     },
     "execution_count": 223,
     "metadata": {},
     "output_type": "execute_result"
    }
   ],
   "source": [
    "mat2-zat"
   ]
  },
  {
   "cell_type": "code",
   "execution_count": 229,
   "id": "b358249f",
   "metadata": {},
   "outputs": [
    {
     "data": {
      "text/plain": [
       "array([[1.        , 0.        , 1.        ],\n",
       "       [1.5       , 2.        , 2.        ],\n",
       "       [0.33333333, 0.5       , 0.5       ]])"
      ]
     },
     "execution_count": 229,
     "metadata": {},
     "output_type": "execute_result"
    }
   ],
   "source": [
    "mat2/zat"
   ]
  },
  {
   "cell_type": "code",
   "execution_count": 232,
   "id": "3b5b1daf",
   "metadata": {},
   "outputs": [
    {
     "data": {
      "text/plain": [
       "array([1.41421356, 2.        , 2.44948974, 3.        ])"
      ]
     },
     "execution_count": 232,
     "metadata": {},
     "output_type": "execute_result"
    }
   ],
   "source": [
    "blk = np.array([2,4,6,9])\n",
    "\n",
    "\n",
    "np.sqrt(blk)  #find square root"
   ]
  },
  {
   "cell_type": "code",
   "execution_count": 240,
   "id": "381b7ede",
   "metadata": {},
   "outputs": [
    {
     "data": {
      "text/plain": [
       "array([[5, 9, 1],\n",
       "       [4, 2, 9],\n",
       "       [8, 9, 6],\n",
       "       [9, 6, 7]])"
      ]
     },
     "execution_count": 240,
     "metadata": {},
     "output_type": "execute_result"
    }
   ],
   "source": [
    "mat"
   ]
  },
  {
   "cell_type": "code",
   "execution_count": 244,
   "id": "635d5599",
   "metadata": {},
   "outputs": [
    {
     "data": {
      "text/plain": [
       "(array([0, 1, 2, 3], dtype=int64), array([1, 2, 1, 0], dtype=int64))"
      ]
     },
     "execution_count": 244,
     "metadata": {},
     "output_type": "execute_result"
    }
   ],
   "source": [
    "np.where(mat>8)    #find given argument in tuple form"
   ]
  },
  {
   "cell_type": "code",
   "execution_count": 245,
   "id": "818c6d1c",
   "metadata": {},
   "outputs": [
    {
     "data": {
      "text/plain": [
       "tuple"
      ]
     },
     "execution_count": 245,
     "metadata": {},
     "output_type": "execute_result"
    }
   ],
   "source": [
    "type(np.where(mat>7))"
   ]
  },
  {
   "cell_type": "code",
   "execution_count": 262,
   "id": "c3bdf9df",
   "metadata": {},
   "outputs": [
    {
     "data": {
      "text/plain": [
       "array([[2, 3, 0],\n",
       "       [6, 9, 2],\n",
       "       [5, 0, 2]])"
      ]
     },
     "execution_count": 262,
     "metadata": {},
     "output_type": "execute_result"
    }
   ],
   "source": [
    "zer = np.array([[2,3,0],[6,9,2],[5,0,2]])\n",
    "\n",
    "zer"
   ]
  },
  {
   "cell_type": "code",
   "execution_count": 259,
   "id": "c86c7c7c",
   "metadata": {},
   "outputs": [
    {
     "data": {
      "text/plain": [
       "7"
      ]
     },
     "execution_count": 259,
     "metadata": {},
     "output_type": "execute_result"
    }
   ],
   "source": [
    "np.count_nonzero(zer)"
   ]
  },
  {
   "cell_type": "code",
   "execution_count": 260,
   "id": "4d42353b",
   "metadata": {},
   "outputs": [
    {
     "data": {
      "text/plain": [
       "(array([0, 0, 1, 1, 1, 2, 2], dtype=int64),\n",
       " array([0, 1, 0, 1, 2, 0, 2], dtype=int64))"
      ]
     },
     "execution_count": 260,
     "metadata": {},
     "output_type": "execute_result"
    }
   ],
   "source": [
    "np.nonzero(zer)"
   ]
  },
  {
   "cell_type": "code",
   "execution_count": 264,
   "id": "12acf801",
   "metadata": {},
   "outputs": [
    {
     "data": {
      "text/plain": [
       "array([[2, 3, 0],\n",
       "       [6, 0, 2],\n",
       "       [5, 0, 2]])"
      ]
     },
     "execution_count": 264,
     "metadata": {},
     "output_type": "execute_result"
    }
   ],
   "source": [
    "zer[1,1] = 0\n",
    "\n",
    "zer"
   ]
  },
  {
   "cell_type": "code",
   "execution_count": 265,
   "id": "41e96b8f",
   "metadata": {},
   "outputs": [
    {
     "data": {
      "text/plain": [
       "(array([0, 0, 1, 1, 2, 2], dtype=int64),\n",
       " array([0, 1, 0, 2, 0, 2], dtype=int64))"
      ]
     },
     "execution_count": 265,
     "metadata": {},
     "output_type": "execute_result"
    }
   ],
   "source": [
    "np.nonzero(zer)"
   ]
  },
  {
   "cell_type": "code",
   "execution_count": null,
   "id": "cc7923be",
   "metadata": {},
   "outputs": [],
   "source": []
  }
 ],
 "metadata": {
  "kernelspec": {
   "display_name": "Python 3",
   "language": "python",
   "name": "python3"
  },
  "language_info": {
   "codemirror_mode": {
    "name": "ipython",
    "version": 3
   },
   "file_extension": ".py",
   "mimetype": "text/x-python",
   "name": "python",
   "nbconvert_exporter": "python",
   "pygments_lexer": "ipython3",
   "version": "3.9.4"
  }
 },
 "nbformat": 4,
 "nbformat_minor": 5
}
